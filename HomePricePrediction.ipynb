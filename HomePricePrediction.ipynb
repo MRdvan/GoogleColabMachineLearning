{
  "nbformat": 4,
  "nbformat_minor": 0,
  "metadata": {
    "colab": {
      "name": "HomePricePrediction.ipynb",
      "provenance": [],
      "collapsed_sections": [],
      "include_colab_link": true
    },
    "kernelspec": {
      "display_name": "Python 3",
      "name": "python3"
    },
    "language_info": {
      "name": "python"
    }
  },
  "cells": [
    {
      "cell_type": "markdown",
      "metadata": {
        "id": "view-in-github",
        "colab_type": "text"
      },
      "source": [
        "<a href=\"https://colab.research.google.com/github/MRdvan/GoogleColabMachineLearning/blob/master/HomePricePrediction.ipynb\" target=\"_parent\"><img src=\"https://colab.research.google.com/assets/colab-badge.svg\" alt=\"Open In Colab\"/></a>"
      ]
    },
    {
      "cell_type": "code",
      "metadata": {
        "id": "uLo1WThOa2Pf"
      },
      "source": [
        "import warnings\n",
        "warnings.filterwarnings('ignore')"
      ],
      "execution_count": 335,
      "outputs": []
    },
    {
      "cell_type": "code",
      "metadata": {
        "id": "2zY41zWMT68U"
      },
      "source": [
        "#from google.colab import files\n",
        "#uploaded = files.upload()"
      ],
      "execution_count": 336,
      "outputs": []
    },
    {
      "cell_type": "code",
      "metadata": {
        "id": "GQupvMhuVZxR"
      },
      "source": [
        "import pandas as pd\n",
        "import numpy as np\n",
        "\n",
        "#pd.set_option(\"display.max_columns\",None)\n",
        "#pd.set_option(\"display.max_rows\",None)"
      ],
      "execution_count": 337,
      "outputs": []
    },
    {
      "cell_type": "code",
      "metadata": {
        "id": "vZJmqQo1Vilv"
      },
      "source": [
        "data_set = pd.read_csv(\"/content/train.csv\",index_col=\"Id\")\n",
        "submission_test_df = pd.read_csv(\"/content/test.csv\",index_col=\"Id\")\n",
        "\n",
        "submission_test_size = submission_test_df.shape[0]\n",
        "\n",
        "dropped_colums=[]\n",
        "\n",
        "#data_set_y = data_set[\"SalePrice\"]\n",
        "\n",
        "#data_set.drop(columns=\"SalePrice\",inplace=True)\n",
        "\n",
        "#data_set = pd.concat([data_set, test_df])"
      ],
      "execution_count": 338,
      "outputs": []
    },
    {
      "cell_type": "code",
      "metadata": {
        "id": "Ruy-61JNfMQ8"
      },
      "source": [
        "#tran=data_set.iloc[0:test_size+1,:]\n",
        "#tesd=data_set.iloc[test_size+1:,:]"
      ],
      "execution_count": 339,
      "outputs": []
    },
    {
      "cell_type": "markdown",
      "metadata": {
        "id": "eCOtcFdzhOHo"
      },
      "source": [
        "# Data Exploration"
      ]
    },
    {
      "cell_type": "code",
      "metadata": {
        "colab": {
          "base_uri": "https://localhost:8080/"
        },
        "id": "VYmGO8pGWCyl",
        "outputId": "0c32ef24-6912-490d-a6c8-ce1fd67bd458"
      },
      "source": [
        "data_set.columns"
      ],
      "execution_count": 340,
      "outputs": [
        {
          "output_type": "execute_result",
          "data": {
            "text/plain": [
              "Index(['MSSubClass', 'MSZoning', 'LotFrontage', 'LotArea', 'Street', 'Alley',\n",
              "       'LotShape', 'LandContour', 'Utilities', 'LotConfig', 'LandSlope',\n",
              "       'Neighborhood', 'Condition1', 'Condition2', 'BldgType', 'HouseStyle',\n",
              "       'OverallQual', 'OverallCond', 'YearBuilt', 'YearRemodAdd', 'RoofStyle',\n",
              "       'RoofMatl', 'Exterior1st', 'Exterior2nd', 'MasVnrType', 'MasVnrArea',\n",
              "       'ExterQual', 'ExterCond', 'Foundation', 'BsmtQual', 'BsmtCond',\n",
              "       'BsmtExposure', 'BsmtFinType1', 'BsmtFinSF1', 'BsmtFinType2',\n",
              "       'BsmtFinSF2', 'BsmtUnfSF', 'TotalBsmtSF', 'Heating', 'HeatingQC',\n",
              "       'CentralAir', 'Electrical', '1stFlrSF', '2ndFlrSF', 'LowQualFinSF',\n",
              "       'GrLivArea', 'BsmtFullBath', 'BsmtHalfBath', 'FullBath', 'HalfBath',\n",
              "       'BedroomAbvGr', 'KitchenAbvGr', 'KitchenQual', 'TotRmsAbvGrd',\n",
              "       'Functional', 'Fireplaces', 'FireplaceQu', 'GarageType', 'GarageYrBlt',\n",
              "       'GarageFinish', 'GarageCars', 'GarageArea', 'GarageQual', 'GarageCond',\n",
              "       'PavedDrive', 'WoodDeckSF', 'OpenPorchSF', 'EnclosedPorch', '3SsnPorch',\n",
              "       'ScreenPorch', 'PoolArea', 'PoolQC', 'Fence', 'MiscFeature', 'MiscVal',\n",
              "       'MoSold', 'YrSold', 'SaleType', 'SaleCondition', 'SalePrice'],\n",
              "      dtype='object')"
            ]
          },
          "metadata": {},
          "execution_count": 340
        }
      ]
    },
    {
      "cell_type": "code",
      "metadata": {
        "colab": {
          "base_uri": "https://localhost:8080/",
          "height": 254
        },
        "id": "dB1rm5FKV91G",
        "outputId": "9aa82b45-54c0-4c36-99b5-7286f8fa8dcf"
      },
      "source": [
        "data_set.head()"
      ],
      "execution_count": 341,
      "outputs": [
        {
          "output_type": "execute_result",
          "data": {
            "text/html": [
              "<div>\n",
              "<style scoped>\n",
              "    .dataframe tbody tr th:only-of-type {\n",
              "        vertical-align: middle;\n",
              "    }\n",
              "\n",
              "    .dataframe tbody tr th {\n",
              "        vertical-align: top;\n",
              "    }\n",
              "\n",
              "    .dataframe thead th {\n",
              "        text-align: right;\n",
              "    }\n",
              "</style>\n",
              "<table border=\"1\" class=\"dataframe\">\n",
              "  <thead>\n",
              "    <tr style=\"text-align: right;\">\n",
              "      <th></th>\n",
              "      <th>MSSubClass</th>\n",
              "      <th>MSZoning</th>\n",
              "      <th>LotFrontage</th>\n",
              "      <th>LotArea</th>\n",
              "      <th>Street</th>\n",
              "      <th>Alley</th>\n",
              "      <th>LotShape</th>\n",
              "      <th>LandContour</th>\n",
              "      <th>Utilities</th>\n",
              "      <th>LotConfig</th>\n",
              "      <th>LandSlope</th>\n",
              "      <th>Neighborhood</th>\n",
              "      <th>Condition1</th>\n",
              "      <th>Condition2</th>\n",
              "      <th>BldgType</th>\n",
              "      <th>HouseStyle</th>\n",
              "      <th>OverallQual</th>\n",
              "      <th>OverallCond</th>\n",
              "      <th>YearBuilt</th>\n",
              "      <th>YearRemodAdd</th>\n",
              "      <th>RoofStyle</th>\n",
              "      <th>RoofMatl</th>\n",
              "      <th>Exterior1st</th>\n",
              "      <th>Exterior2nd</th>\n",
              "      <th>MasVnrType</th>\n",
              "      <th>MasVnrArea</th>\n",
              "      <th>ExterQual</th>\n",
              "      <th>ExterCond</th>\n",
              "      <th>Foundation</th>\n",
              "      <th>BsmtQual</th>\n",
              "      <th>BsmtCond</th>\n",
              "      <th>BsmtExposure</th>\n",
              "      <th>BsmtFinType1</th>\n",
              "      <th>BsmtFinSF1</th>\n",
              "      <th>BsmtFinType2</th>\n",
              "      <th>BsmtFinSF2</th>\n",
              "      <th>BsmtUnfSF</th>\n",
              "      <th>TotalBsmtSF</th>\n",
              "      <th>Heating</th>\n",
              "      <th>HeatingQC</th>\n",
              "      <th>CentralAir</th>\n",
              "      <th>Electrical</th>\n",
              "      <th>1stFlrSF</th>\n",
              "      <th>2ndFlrSF</th>\n",
              "      <th>LowQualFinSF</th>\n",
              "      <th>GrLivArea</th>\n",
              "      <th>BsmtFullBath</th>\n",
              "      <th>BsmtHalfBath</th>\n",
              "      <th>FullBath</th>\n",
              "      <th>HalfBath</th>\n",
              "      <th>BedroomAbvGr</th>\n",
              "      <th>KitchenAbvGr</th>\n",
              "      <th>KitchenQual</th>\n",
              "      <th>TotRmsAbvGrd</th>\n",
              "      <th>Functional</th>\n",
              "      <th>Fireplaces</th>\n",
              "      <th>FireplaceQu</th>\n",
              "      <th>GarageType</th>\n",
              "      <th>GarageYrBlt</th>\n",
              "      <th>GarageFinish</th>\n",
              "      <th>GarageCars</th>\n",
              "      <th>GarageArea</th>\n",
              "      <th>GarageQual</th>\n",
              "      <th>GarageCond</th>\n",
              "      <th>PavedDrive</th>\n",
              "      <th>WoodDeckSF</th>\n",
              "      <th>OpenPorchSF</th>\n",
              "      <th>EnclosedPorch</th>\n",
              "      <th>3SsnPorch</th>\n",
              "      <th>ScreenPorch</th>\n",
              "      <th>PoolArea</th>\n",
              "      <th>PoolQC</th>\n",
              "      <th>Fence</th>\n",
              "      <th>MiscFeature</th>\n",
              "      <th>MiscVal</th>\n",
              "      <th>MoSold</th>\n",
              "      <th>YrSold</th>\n",
              "      <th>SaleType</th>\n",
              "      <th>SaleCondition</th>\n",
              "      <th>SalePrice</th>\n",
              "    </tr>\n",
              "    <tr>\n",
              "      <th>Id</th>\n",
              "      <th></th>\n",
              "      <th></th>\n",
              "      <th></th>\n",
              "      <th></th>\n",
              "      <th></th>\n",
              "      <th></th>\n",
              "      <th></th>\n",
              "      <th></th>\n",
              "      <th></th>\n",
              "      <th></th>\n",
              "      <th></th>\n",
              "      <th></th>\n",
              "      <th></th>\n",
              "      <th></th>\n",
              "      <th></th>\n",
              "      <th></th>\n",
              "      <th></th>\n",
              "      <th></th>\n",
              "      <th></th>\n",
              "      <th></th>\n",
              "      <th></th>\n",
              "      <th></th>\n",
              "      <th></th>\n",
              "      <th></th>\n",
              "      <th></th>\n",
              "      <th></th>\n",
              "      <th></th>\n",
              "      <th></th>\n",
              "      <th></th>\n",
              "      <th></th>\n",
              "      <th></th>\n",
              "      <th></th>\n",
              "      <th></th>\n",
              "      <th></th>\n",
              "      <th></th>\n",
              "      <th></th>\n",
              "      <th></th>\n",
              "      <th></th>\n",
              "      <th></th>\n",
              "      <th></th>\n",
              "      <th></th>\n",
              "      <th></th>\n",
              "      <th></th>\n",
              "      <th></th>\n",
              "      <th></th>\n",
              "      <th></th>\n",
              "      <th></th>\n",
              "      <th></th>\n",
              "      <th></th>\n",
              "      <th></th>\n",
              "      <th></th>\n",
              "      <th></th>\n",
              "      <th></th>\n",
              "      <th></th>\n",
              "      <th></th>\n",
              "      <th></th>\n",
              "      <th></th>\n",
              "      <th></th>\n",
              "      <th></th>\n",
              "      <th></th>\n",
              "      <th></th>\n",
              "      <th></th>\n",
              "      <th></th>\n",
              "      <th></th>\n",
              "      <th></th>\n",
              "      <th></th>\n",
              "      <th></th>\n",
              "      <th></th>\n",
              "      <th></th>\n",
              "      <th></th>\n",
              "      <th></th>\n",
              "      <th></th>\n",
              "      <th></th>\n",
              "      <th></th>\n",
              "      <th></th>\n",
              "      <th></th>\n",
              "      <th></th>\n",
              "      <th></th>\n",
              "      <th></th>\n",
              "      <th></th>\n",
              "    </tr>\n",
              "  </thead>\n",
              "  <tbody>\n",
              "    <tr>\n",
              "      <th>1</th>\n",
              "      <td>60</td>\n",
              "      <td>RL</td>\n",
              "      <td>65.0</td>\n",
              "      <td>8450</td>\n",
              "      <td>Pave</td>\n",
              "      <td>NaN</td>\n",
              "      <td>Reg</td>\n",
              "      <td>Lvl</td>\n",
              "      <td>AllPub</td>\n",
              "      <td>Inside</td>\n",
              "      <td>Gtl</td>\n",
              "      <td>CollgCr</td>\n",
              "      <td>Norm</td>\n",
              "      <td>Norm</td>\n",
              "      <td>1Fam</td>\n",
              "      <td>2Story</td>\n",
              "      <td>7</td>\n",
              "      <td>5</td>\n",
              "      <td>2003</td>\n",
              "      <td>2003</td>\n",
              "      <td>Gable</td>\n",
              "      <td>CompShg</td>\n",
              "      <td>VinylSd</td>\n",
              "      <td>VinylSd</td>\n",
              "      <td>BrkFace</td>\n",
              "      <td>196.0</td>\n",
              "      <td>Gd</td>\n",
              "      <td>TA</td>\n",
              "      <td>PConc</td>\n",
              "      <td>Gd</td>\n",
              "      <td>TA</td>\n",
              "      <td>No</td>\n",
              "      <td>GLQ</td>\n",
              "      <td>706</td>\n",
              "      <td>Unf</td>\n",
              "      <td>0</td>\n",
              "      <td>150</td>\n",
              "      <td>856</td>\n",
              "      <td>GasA</td>\n",
              "      <td>Ex</td>\n",
              "      <td>Y</td>\n",
              "      <td>SBrkr</td>\n",
              "      <td>856</td>\n",
              "      <td>854</td>\n",
              "      <td>0</td>\n",
              "      <td>1710</td>\n",
              "      <td>1</td>\n",
              "      <td>0</td>\n",
              "      <td>2</td>\n",
              "      <td>1</td>\n",
              "      <td>3</td>\n",
              "      <td>1</td>\n",
              "      <td>Gd</td>\n",
              "      <td>8</td>\n",
              "      <td>Typ</td>\n",
              "      <td>0</td>\n",
              "      <td>NaN</td>\n",
              "      <td>Attchd</td>\n",
              "      <td>2003.0</td>\n",
              "      <td>RFn</td>\n",
              "      <td>2</td>\n",
              "      <td>548</td>\n",
              "      <td>TA</td>\n",
              "      <td>TA</td>\n",
              "      <td>Y</td>\n",
              "      <td>0</td>\n",
              "      <td>61</td>\n",
              "      <td>0</td>\n",
              "      <td>0</td>\n",
              "      <td>0</td>\n",
              "      <td>0</td>\n",
              "      <td>NaN</td>\n",
              "      <td>NaN</td>\n",
              "      <td>NaN</td>\n",
              "      <td>0</td>\n",
              "      <td>2</td>\n",
              "      <td>2008</td>\n",
              "      <td>WD</td>\n",
              "      <td>Normal</td>\n",
              "      <td>208500</td>\n",
              "    </tr>\n",
              "    <tr>\n",
              "      <th>2</th>\n",
              "      <td>20</td>\n",
              "      <td>RL</td>\n",
              "      <td>80.0</td>\n",
              "      <td>9600</td>\n",
              "      <td>Pave</td>\n",
              "      <td>NaN</td>\n",
              "      <td>Reg</td>\n",
              "      <td>Lvl</td>\n",
              "      <td>AllPub</td>\n",
              "      <td>FR2</td>\n",
              "      <td>Gtl</td>\n",
              "      <td>Veenker</td>\n",
              "      <td>Feedr</td>\n",
              "      <td>Norm</td>\n",
              "      <td>1Fam</td>\n",
              "      <td>1Story</td>\n",
              "      <td>6</td>\n",
              "      <td>8</td>\n",
              "      <td>1976</td>\n",
              "      <td>1976</td>\n",
              "      <td>Gable</td>\n",
              "      <td>CompShg</td>\n",
              "      <td>MetalSd</td>\n",
              "      <td>MetalSd</td>\n",
              "      <td>None</td>\n",
              "      <td>0.0</td>\n",
              "      <td>TA</td>\n",
              "      <td>TA</td>\n",
              "      <td>CBlock</td>\n",
              "      <td>Gd</td>\n",
              "      <td>TA</td>\n",
              "      <td>Gd</td>\n",
              "      <td>ALQ</td>\n",
              "      <td>978</td>\n",
              "      <td>Unf</td>\n",
              "      <td>0</td>\n",
              "      <td>284</td>\n",
              "      <td>1262</td>\n",
              "      <td>GasA</td>\n",
              "      <td>Ex</td>\n",
              "      <td>Y</td>\n",
              "      <td>SBrkr</td>\n",
              "      <td>1262</td>\n",
              "      <td>0</td>\n",
              "      <td>0</td>\n",
              "      <td>1262</td>\n",
              "      <td>0</td>\n",
              "      <td>1</td>\n",
              "      <td>2</td>\n",
              "      <td>0</td>\n",
              "      <td>3</td>\n",
              "      <td>1</td>\n",
              "      <td>TA</td>\n",
              "      <td>6</td>\n",
              "      <td>Typ</td>\n",
              "      <td>1</td>\n",
              "      <td>TA</td>\n",
              "      <td>Attchd</td>\n",
              "      <td>1976.0</td>\n",
              "      <td>RFn</td>\n",
              "      <td>2</td>\n",
              "      <td>460</td>\n",
              "      <td>TA</td>\n",
              "      <td>TA</td>\n",
              "      <td>Y</td>\n",
              "      <td>298</td>\n",
              "      <td>0</td>\n",
              "      <td>0</td>\n",
              "      <td>0</td>\n",
              "      <td>0</td>\n",
              "      <td>0</td>\n",
              "      <td>NaN</td>\n",
              "      <td>NaN</td>\n",
              "      <td>NaN</td>\n",
              "      <td>0</td>\n",
              "      <td>5</td>\n",
              "      <td>2007</td>\n",
              "      <td>WD</td>\n",
              "      <td>Normal</td>\n",
              "      <td>181500</td>\n",
              "    </tr>\n",
              "    <tr>\n",
              "      <th>3</th>\n",
              "      <td>60</td>\n",
              "      <td>RL</td>\n",
              "      <td>68.0</td>\n",
              "      <td>11250</td>\n",
              "      <td>Pave</td>\n",
              "      <td>NaN</td>\n",
              "      <td>IR1</td>\n",
              "      <td>Lvl</td>\n",
              "      <td>AllPub</td>\n",
              "      <td>Inside</td>\n",
              "      <td>Gtl</td>\n",
              "      <td>CollgCr</td>\n",
              "      <td>Norm</td>\n",
              "      <td>Norm</td>\n",
              "      <td>1Fam</td>\n",
              "      <td>2Story</td>\n",
              "      <td>7</td>\n",
              "      <td>5</td>\n",
              "      <td>2001</td>\n",
              "      <td>2002</td>\n",
              "      <td>Gable</td>\n",
              "      <td>CompShg</td>\n",
              "      <td>VinylSd</td>\n",
              "      <td>VinylSd</td>\n",
              "      <td>BrkFace</td>\n",
              "      <td>162.0</td>\n",
              "      <td>Gd</td>\n",
              "      <td>TA</td>\n",
              "      <td>PConc</td>\n",
              "      <td>Gd</td>\n",
              "      <td>TA</td>\n",
              "      <td>Mn</td>\n",
              "      <td>GLQ</td>\n",
              "      <td>486</td>\n",
              "      <td>Unf</td>\n",
              "      <td>0</td>\n",
              "      <td>434</td>\n",
              "      <td>920</td>\n",
              "      <td>GasA</td>\n",
              "      <td>Ex</td>\n",
              "      <td>Y</td>\n",
              "      <td>SBrkr</td>\n",
              "      <td>920</td>\n",
              "      <td>866</td>\n",
              "      <td>0</td>\n",
              "      <td>1786</td>\n",
              "      <td>1</td>\n",
              "      <td>0</td>\n",
              "      <td>2</td>\n",
              "      <td>1</td>\n",
              "      <td>3</td>\n",
              "      <td>1</td>\n",
              "      <td>Gd</td>\n",
              "      <td>6</td>\n",
              "      <td>Typ</td>\n",
              "      <td>1</td>\n",
              "      <td>TA</td>\n",
              "      <td>Attchd</td>\n",
              "      <td>2001.0</td>\n",
              "      <td>RFn</td>\n",
              "      <td>2</td>\n",
              "      <td>608</td>\n",
              "      <td>TA</td>\n",
              "      <td>TA</td>\n",
              "      <td>Y</td>\n",
              "      <td>0</td>\n",
              "      <td>42</td>\n",
              "      <td>0</td>\n",
              "      <td>0</td>\n",
              "      <td>0</td>\n",
              "      <td>0</td>\n",
              "      <td>NaN</td>\n",
              "      <td>NaN</td>\n",
              "      <td>NaN</td>\n",
              "      <td>0</td>\n",
              "      <td>9</td>\n",
              "      <td>2008</td>\n",
              "      <td>WD</td>\n",
              "      <td>Normal</td>\n",
              "      <td>223500</td>\n",
              "    </tr>\n",
              "    <tr>\n",
              "      <th>4</th>\n",
              "      <td>70</td>\n",
              "      <td>RL</td>\n",
              "      <td>60.0</td>\n",
              "      <td>9550</td>\n",
              "      <td>Pave</td>\n",
              "      <td>NaN</td>\n",
              "      <td>IR1</td>\n",
              "      <td>Lvl</td>\n",
              "      <td>AllPub</td>\n",
              "      <td>Corner</td>\n",
              "      <td>Gtl</td>\n",
              "      <td>Crawfor</td>\n",
              "      <td>Norm</td>\n",
              "      <td>Norm</td>\n",
              "      <td>1Fam</td>\n",
              "      <td>2Story</td>\n",
              "      <td>7</td>\n",
              "      <td>5</td>\n",
              "      <td>1915</td>\n",
              "      <td>1970</td>\n",
              "      <td>Gable</td>\n",
              "      <td>CompShg</td>\n",
              "      <td>Wd Sdng</td>\n",
              "      <td>Wd Shng</td>\n",
              "      <td>None</td>\n",
              "      <td>0.0</td>\n",
              "      <td>TA</td>\n",
              "      <td>TA</td>\n",
              "      <td>BrkTil</td>\n",
              "      <td>TA</td>\n",
              "      <td>Gd</td>\n",
              "      <td>No</td>\n",
              "      <td>ALQ</td>\n",
              "      <td>216</td>\n",
              "      <td>Unf</td>\n",
              "      <td>0</td>\n",
              "      <td>540</td>\n",
              "      <td>756</td>\n",
              "      <td>GasA</td>\n",
              "      <td>Gd</td>\n",
              "      <td>Y</td>\n",
              "      <td>SBrkr</td>\n",
              "      <td>961</td>\n",
              "      <td>756</td>\n",
              "      <td>0</td>\n",
              "      <td>1717</td>\n",
              "      <td>1</td>\n",
              "      <td>0</td>\n",
              "      <td>1</td>\n",
              "      <td>0</td>\n",
              "      <td>3</td>\n",
              "      <td>1</td>\n",
              "      <td>Gd</td>\n",
              "      <td>7</td>\n",
              "      <td>Typ</td>\n",
              "      <td>1</td>\n",
              "      <td>Gd</td>\n",
              "      <td>Detchd</td>\n",
              "      <td>1998.0</td>\n",
              "      <td>Unf</td>\n",
              "      <td>3</td>\n",
              "      <td>642</td>\n",
              "      <td>TA</td>\n",
              "      <td>TA</td>\n",
              "      <td>Y</td>\n",
              "      <td>0</td>\n",
              "      <td>35</td>\n",
              "      <td>272</td>\n",
              "      <td>0</td>\n",
              "      <td>0</td>\n",
              "      <td>0</td>\n",
              "      <td>NaN</td>\n",
              "      <td>NaN</td>\n",
              "      <td>NaN</td>\n",
              "      <td>0</td>\n",
              "      <td>2</td>\n",
              "      <td>2006</td>\n",
              "      <td>WD</td>\n",
              "      <td>Abnorml</td>\n",
              "      <td>140000</td>\n",
              "    </tr>\n",
              "    <tr>\n",
              "      <th>5</th>\n",
              "      <td>60</td>\n",
              "      <td>RL</td>\n",
              "      <td>84.0</td>\n",
              "      <td>14260</td>\n",
              "      <td>Pave</td>\n",
              "      <td>NaN</td>\n",
              "      <td>IR1</td>\n",
              "      <td>Lvl</td>\n",
              "      <td>AllPub</td>\n",
              "      <td>FR2</td>\n",
              "      <td>Gtl</td>\n",
              "      <td>NoRidge</td>\n",
              "      <td>Norm</td>\n",
              "      <td>Norm</td>\n",
              "      <td>1Fam</td>\n",
              "      <td>2Story</td>\n",
              "      <td>8</td>\n",
              "      <td>5</td>\n",
              "      <td>2000</td>\n",
              "      <td>2000</td>\n",
              "      <td>Gable</td>\n",
              "      <td>CompShg</td>\n",
              "      <td>VinylSd</td>\n",
              "      <td>VinylSd</td>\n",
              "      <td>BrkFace</td>\n",
              "      <td>350.0</td>\n",
              "      <td>Gd</td>\n",
              "      <td>TA</td>\n",
              "      <td>PConc</td>\n",
              "      <td>Gd</td>\n",
              "      <td>TA</td>\n",
              "      <td>Av</td>\n",
              "      <td>GLQ</td>\n",
              "      <td>655</td>\n",
              "      <td>Unf</td>\n",
              "      <td>0</td>\n",
              "      <td>490</td>\n",
              "      <td>1145</td>\n",
              "      <td>GasA</td>\n",
              "      <td>Ex</td>\n",
              "      <td>Y</td>\n",
              "      <td>SBrkr</td>\n",
              "      <td>1145</td>\n",
              "      <td>1053</td>\n",
              "      <td>0</td>\n",
              "      <td>2198</td>\n",
              "      <td>1</td>\n",
              "      <td>0</td>\n",
              "      <td>2</td>\n",
              "      <td>1</td>\n",
              "      <td>4</td>\n",
              "      <td>1</td>\n",
              "      <td>Gd</td>\n",
              "      <td>9</td>\n",
              "      <td>Typ</td>\n",
              "      <td>1</td>\n",
              "      <td>TA</td>\n",
              "      <td>Attchd</td>\n",
              "      <td>2000.0</td>\n",
              "      <td>RFn</td>\n",
              "      <td>3</td>\n",
              "      <td>836</td>\n",
              "      <td>TA</td>\n",
              "      <td>TA</td>\n",
              "      <td>Y</td>\n",
              "      <td>192</td>\n",
              "      <td>84</td>\n",
              "      <td>0</td>\n",
              "      <td>0</td>\n",
              "      <td>0</td>\n",
              "      <td>0</td>\n",
              "      <td>NaN</td>\n",
              "      <td>NaN</td>\n",
              "      <td>NaN</td>\n",
              "      <td>0</td>\n",
              "      <td>12</td>\n",
              "      <td>2008</td>\n",
              "      <td>WD</td>\n",
              "      <td>Normal</td>\n",
              "      <td>250000</td>\n",
              "    </tr>\n",
              "  </tbody>\n",
              "</table>\n",
              "</div>"
            ],
            "text/plain": [
              "    MSSubClass MSZoning  LotFrontage  LotArea Street Alley LotShape  \\\n",
              "Id                                                                    \n",
              "1           60       RL         65.0     8450   Pave   NaN      Reg   \n",
              "2           20       RL         80.0     9600   Pave   NaN      Reg   \n",
              "3           60       RL         68.0    11250   Pave   NaN      IR1   \n",
              "4           70       RL         60.0     9550   Pave   NaN      IR1   \n",
              "5           60       RL         84.0    14260   Pave   NaN      IR1   \n",
              "\n",
              "   LandContour Utilities LotConfig LandSlope Neighborhood Condition1  \\\n",
              "Id                                                                     \n",
              "1          Lvl    AllPub    Inside       Gtl      CollgCr       Norm   \n",
              "2          Lvl    AllPub       FR2       Gtl      Veenker      Feedr   \n",
              "3          Lvl    AllPub    Inside       Gtl      CollgCr       Norm   \n",
              "4          Lvl    AllPub    Corner       Gtl      Crawfor       Norm   \n",
              "5          Lvl    AllPub       FR2       Gtl      NoRidge       Norm   \n",
              "\n",
              "   Condition2 BldgType HouseStyle  OverallQual  OverallCond  YearBuilt  \\\n",
              "Id                                                                       \n",
              "1        Norm     1Fam     2Story            7            5       2003   \n",
              "2        Norm     1Fam     1Story            6            8       1976   \n",
              "3        Norm     1Fam     2Story            7            5       2001   \n",
              "4        Norm     1Fam     2Story            7            5       1915   \n",
              "5        Norm     1Fam     2Story            8            5       2000   \n",
              "\n",
              "    YearRemodAdd RoofStyle RoofMatl Exterior1st Exterior2nd MasVnrType  \\\n",
              "Id                                                                       \n",
              "1           2003     Gable  CompShg     VinylSd     VinylSd    BrkFace   \n",
              "2           1976     Gable  CompShg     MetalSd     MetalSd       None   \n",
              "3           2002     Gable  CompShg     VinylSd     VinylSd    BrkFace   \n",
              "4           1970     Gable  CompShg     Wd Sdng     Wd Shng       None   \n",
              "5           2000     Gable  CompShg     VinylSd     VinylSd    BrkFace   \n",
              "\n",
              "    MasVnrArea ExterQual ExterCond Foundation BsmtQual BsmtCond BsmtExposure  \\\n",
              "Id                                                                             \n",
              "1        196.0        Gd        TA      PConc       Gd       TA           No   \n",
              "2          0.0        TA        TA     CBlock       Gd       TA           Gd   \n",
              "3        162.0        Gd        TA      PConc       Gd       TA           Mn   \n",
              "4          0.0        TA        TA     BrkTil       TA       Gd           No   \n",
              "5        350.0        Gd        TA      PConc       Gd       TA           Av   \n",
              "\n",
              "   BsmtFinType1  BsmtFinSF1 BsmtFinType2  BsmtFinSF2  BsmtUnfSF  TotalBsmtSF  \\\n",
              "Id                                                                             \n",
              "1           GLQ         706          Unf           0        150          856   \n",
              "2           ALQ         978          Unf           0        284         1262   \n",
              "3           GLQ         486          Unf           0        434          920   \n",
              "4           ALQ         216          Unf           0        540          756   \n",
              "5           GLQ         655          Unf           0        490         1145   \n",
              "\n",
              "   Heating HeatingQC CentralAir Electrical  1stFlrSF  2ndFlrSF  LowQualFinSF  \\\n",
              "Id                                                                             \n",
              "1     GasA        Ex          Y      SBrkr       856       854             0   \n",
              "2     GasA        Ex          Y      SBrkr      1262         0             0   \n",
              "3     GasA        Ex          Y      SBrkr       920       866             0   \n",
              "4     GasA        Gd          Y      SBrkr       961       756             0   \n",
              "5     GasA        Ex          Y      SBrkr      1145      1053             0   \n",
              "\n",
              "    GrLivArea  BsmtFullBath  BsmtHalfBath  FullBath  HalfBath  BedroomAbvGr  \\\n",
              "Id                                                                            \n",
              "1        1710             1             0         2         1             3   \n",
              "2        1262             0             1         2         0             3   \n",
              "3        1786             1             0         2         1             3   \n",
              "4        1717             1             0         1         0             3   \n",
              "5        2198             1             0         2         1             4   \n",
              "\n",
              "    KitchenAbvGr KitchenQual  TotRmsAbvGrd Functional  Fireplaces FireplaceQu  \\\n",
              "Id                                                                              \n",
              "1              1          Gd             8        Typ           0         NaN   \n",
              "2              1          TA             6        Typ           1          TA   \n",
              "3              1          Gd             6        Typ           1          TA   \n",
              "4              1          Gd             7        Typ           1          Gd   \n",
              "5              1          Gd             9        Typ           1          TA   \n",
              "\n",
              "   GarageType  GarageYrBlt GarageFinish  GarageCars  GarageArea GarageQual  \\\n",
              "Id                                                                           \n",
              "1      Attchd       2003.0          RFn           2         548         TA   \n",
              "2      Attchd       1976.0          RFn           2         460         TA   \n",
              "3      Attchd       2001.0          RFn           2         608         TA   \n",
              "4      Detchd       1998.0          Unf           3         642         TA   \n",
              "5      Attchd       2000.0          RFn           3         836         TA   \n",
              "\n",
              "   GarageCond PavedDrive  WoodDeckSF  OpenPorchSF  EnclosedPorch  3SsnPorch  \\\n",
              "Id                                                                            \n",
              "1          TA          Y           0           61              0          0   \n",
              "2          TA          Y         298            0              0          0   \n",
              "3          TA          Y           0           42              0          0   \n",
              "4          TA          Y           0           35            272          0   \n",
              "5          TA          Y         192           84              0          0   \n",
              "\n",
              "    ScreenPorch  PoolArea PoolQC Fence MiscFeature  MiscVal  MoSold  YrSold  \\\n",
              "Id                                                                            \n",
              "1             0         0    NaN   NaN         NaN        0       2    2008   \n",
              "2             0         0    NaN   NaN         NaN        0       5    2007   \n",
              "3             0         0    NaN   NaN         NaN        0       9    2008   \n",
              "4             0         0    NaN   NaN         NaN        0       2    2006   \n",
              "5             0         0    NaN   NaN         NaN        0      12    2008   \n",
              "\n",
              "   SaleType SaleCondition  SalePrice  \n",
              "Id                                    \n",
              "1        WD        Normal     208500  \n",
              "2        WD        Normal     181500  \n",
              "3        WD        Normal     223500  \n",
              "4        WD       Abnorml     140000  \n",
              "5        WD        Normal     250000  "
            ]
          },
          "metadata": {},
          "execution_count": 341
        }
      ]
    },
    {
      "cell_type": "code",
      "metadata": {
        "colab": {
          "base_uri": "https://localhost:8080/",
          "height": 315
        },
        "id": "1zo_vzZMq0qw",
        "outputId": "9e5b1aae-e8f1-421f-b336-d62bf9f8efc9"
      },
      "source": [
        "data_set.describe()"
      ],
      "execution_count": 342,
      "outputs": [
        {
          "output_type": "execute_result",
          "data": {
            "text/html": [
              "<div>\n",
              "<style scoped>\n",
              "    .dataframe tbody tr th:only-of-type {\n",
              "        vertical-align: middle;\n",
              "    }\n",
              "\n",
              "    .dataframe tbody tr th {\n",
              "        vertical-align: top;\n",
              "    }\n",
              "\n",
              "    .dataframe thead th {\n",
              "        text-align: right;\n",
              "    }\n",
              "</style>\n",
              "<table border=\"1\" class=\"dataframe\">\n",
              "  <thead>\n",
              "    <tr style=\"text-align: right;\">\n",
              "      <th></th>\n",
              "      <th>MSSubClass</th>\n",
              "      <th>LotFrontage</th>\n",
              "      <th>LotArea</th>\n",
              "      <th>OverallQual</th>\n",
              "      <th>OverallCond</th>\n",
              "      <th>YearBuilt</th>\n",
              "      <th>YearRemodAdd</th>\n",
              "      <th>MasVnrArea</th>\n",
              "      <th>BsmtFinSF1</th>\n",
              "      <th>BsmtFinSF2</th>\n",
              "      <th>BsmtUnfSF</th>\n",
              "      <th>TotalBsmtSF</th>\n",
              "      <th>1stFlrSF</th>\n",
              "      <th>2ndFlrSF</th>\n",
              "      <th>LowQualFinSF</th>\n",
              "      <th>GrLivArea</th>\n",
              "      <th>BsmtFullBath</th>\n",
              "      <th>BsmtHalfBath</th>\n",
              "      <th>FullBath</th>\n",
              "      <th>HalfBath</th>\n",
              "      <th>BedroomAbvGr</th>\n",
              "      <th>KitchenAbvGr</th>\n",
              "      <th>TotRmsAbvGrd</th>\n",
              "      <th>Fireplaces</th>\n",
              "      <th>GarageYrBlt</th>\n",
              "      <th>GarageCars</th>\n",
              "      <th>GarageArea</th>\n",
              "      <th>WoodDeckSF</th>\n",
              "      <th>OpenPorchSF</th>\n",
              "      <th>EnclosedPorch</th>\n",
              "      <th>3SsnPorch</th>\n",
              "      <th>ScreenPorch</th>\n",
              "      <th>PoolArea</th>\n",
              "      <th>MiscVal</th>\n",
              "      <th>MoSold</th>\n",
              "      <th>YrSold</th>\n",
              "      <th>SalePrice</th>\n",
              "    </tr>\n",
              "  </thead>\n",
              "  <tbody>\n",
              "    <tr>\n",
              "      <th>count</th>\n",
              "      <td>1460.000000</td>\n",
              "      <td>1201.000000</td>\n",
              "      <td>1460.000000</td>\n",
              "      <td>1460.000000</td>\n",
              "      <td>1460.000000</td>\n",
              "      <td>1460.000000</td>\n",
              "      <td>1460.000000</td>\n",
              "      <td>1452.000000</td>\n",
              "      <td>1460.000000</td>\n",
              "      <td>1460.000000</td>\n",
              "      <td>1460.000000</td>\n",
              "      <td>1460.000000</td>\n",
              "      <td>1460.000000</td>\n",
              "      <td>1460.000000</td>\n",
              "      <td>1460.000000</td>\n",
              "      <td>1460.000000</td>\n",
              "      <td>1460.000000</td>\n",
              "      <td>1460.000000</td>\n",
              "      <td>1460.000000</td>\n",
              "      <td>1460.000000</td>\n",
              "      <td>1460.000000</td>\n",
              "      <td>1460.000000</td>\n",
              "      <td>1460.000000</td>\n",
              "      <td>1460.000000</td>\n",
              "      <td>1379.000000</td>\n",
              "      <td>1460.000000</td>\n",
              "      <td>1460.000000</td>\n",
              "      <td>1460.000000</td>\n",
              "      <td>1460.000000</td>\n",
              "      <td>1460.000000</td>\n",
              "      <td>1460.000000</td>\n",
              "      <td>1460.000000</td>\n",
              "      <td>1460.000000</td>\n",
              "      <td>1460.000000</td>\n",
              "      <td>1460.000000</td>\n",
              "      <td>1460.000000</td>\n",
              "      <td>1460.000000</td>\n",
              "    </tr>\n",
              "    <tr>\n",
              "      <th>mean</th>\n",
              "      <td>56.897260</td>\n",
              "      <td>70.049958</td>\n",
              "      <td>10516.828082</td>\n",
              "      <td>6.099315</td>\n",
              "      <td>5.575342</td>\n",
              "      <td>1971.267808</td>\n",
              "      <td>1984.865753</td>\n",
              "      <td>103.685262</td>\n",
              "      <td>443.639726</td>\n",
              "      <td>46.549315</td>\n",
              "      <td>567.240411</td>\n",
              "      <td>1057.429452</td>\n",
              "      <td>1162.626712</td>\n",
              "      <td>346.992466</td>\n",
              "      <td>5.844521</td>\n",
              "      <td>1515.463699</td>\n",
              "      <td>0.425342</td>\n",
              "      <td>0.057534</td>\n",
              "      <td>1.565068</td>\n",
              "      <td>0.382877</td>\n",
              "      <td>2.866438</td>\n",
              "      <td>1.046575</td>\n",
              "      <td>6.517808</td>\n",
              "      <td>0.613014</td>\n",
              "      <td>1978.506164</td>\n",
              "      <td>1.767123</td>\n",
              "      <td>472.980137</td>\n",
              "      <td>94.244521</td>\n",
              "      <td>46.660274</td>\n",
              "      <td>21.954110</td>\n",
              "      <td>3.409589</td>\n",
              "      <td>15.060959</td>\n",
              "      <td>2.758904</td>\n",
              "      <td>43.489041</td>\n",
              "      <td>6.321918</td>\n",
              "      <td>2007.815753</td>\n",
              "      <td>180921.195890</td>\n",
              "    </tr>\n",
              "    <tr>\n",
              "      <th>std</th>\n",
              "      <td>42.300571</td>\n",
              "      <td>24.284752</td>\n",
              "      <td>9981.264932</td>\n",
              "      <td>1.382997</td>\n",
              "      <td>1.112799</td>\n",
              "      <td>30.202904</td>\n",
              "      <td>20.645407</td>\n",
              "      <td>181.066207</td>\n",
              "      <td>456.098091</td>\n",
              "      <td>161.319273</td>\n",
              "      <td>441.866955</td>\n",
              "      <td>438.705324</td>\n",
              "      <td>386.587738</td>\n",
              "      <td>436.528436</td>\n",
              "      <td>48.623081</td>\n",
              "      <td>525.480383</td>\n",
              "      <td>0.518911</td>\n",
              "      <td>0.238753</td>\n",
              "      <td>0.550916</td>\n",
              "      <td>0.502885</td>\n",
              "      <td>0.815778</td>\n",
              "      <td>0.220338</td>\n",
              "      <td>1.625393</td>\n",
              "      <td>0.644666</td>\n",
              "      <td>24.689725</td>\n",
              "      <td>0.747315</td>\n",
              "      <td>213.804841</td>\n",
              "      <td>125.338794</td>\n",
              "      <td>66.256028</td>\n",
              "      <td>61.119149</td>\n",
              "      <td>29.317331</td>\n",
              "      <td>55.757415</td>\n",
              "      <td>40.177307</td>\n",
              "      <td>496.123024</td>\n",
              "      <td>2.703626</td>\n",
              "      <td>1.328095</td>\n",
              "      <td>79442.502883</td>\n",
              "    </tr>\n",
              "    <tr>\n",
              "      <th>min</th>\n",
              "      <td>20.000000</td>\n",
              "      <td>21.000000</td>\n",
              "      <td>1300.000000</td>\n",
              "      <td>1.000000</td>\n",
              "      <td>1.000000</td>\n",
              "      <td>1872.000000</td>\n",
              "      <td>1950.000000</td>\n",
              "      <td>0.000000</td>\n",
              "      <td>0.000000</td>\n",
              "      <td>0.000000</td>\n",
              "      <td>0.000000</td>\n",
              "      <td>0.000000</td>\n",
              "      <td>334.000000</td>\n",
              "      <td>0.000000</td>\n",
              "      <td>0.000000</td>\n",
              "      <td>334.000000</td>\n",
              "      <td>0.000000</td>\n",
              "      <td>0.000000</td>\n",
              "      <td>0.000000</td>\n",
              "      <td>0.000000</td>\n",
              "      <td>0.000000</td>\n",
              "      <td>0.000000</td>\n",
              "      <td>2.000000</td>\n",
              "      <td>0.000000</td>\n",
              "      <td>1900.000000</td>\n",
              "      <td>0.000000</td>\n",
              "      <td>0.000000</td>\n",
              "      <td>0.000000</td>\n",
              "      <td>0.000000</td>\n",
              "      <td>0.000000</td>\n",
              "      <td>0.000000</td>\n",
              "      <td>0.000000</td>\n",
              "      <td>0.000000</td>\n",
              "      <td>0.000000</td>\n",
              "      <td>1.000000</td>\n",
              "      <td>2006.000000</td>\n",
              "      <td>34900.000000</td>\n",
              "    </tr>\n",
              "    <tr>\n",
              "      <th>25%</th>\n",
              "      <td>20.000000</td>\n",
              "      <td>59.000000</td>\n",
              "      <td>7553.500000</td>\n",
              "      <td>5.000000</td>\n",
              "      <td>5.000000</td>\n",
              "      <td>1954.000000</td>\n",
              "      <td>1967.000000</td>\n",
              "      <td>0.000000</td>\n",
              "      <td>0.000000</td>\n",
              "      <td>0.000000</td>\n",
              "      <td>223.000000</td>\n",
              "      <td>795.750000</td>\n",
              "      <td>882.000000</td>\n",
              "      <td>0.000000</td>\n",
              "      <td>0.000000</td>\n",
              "      <td>1129.500000</td>\n",
              "      <td>0.000000</td>\n",
              "      <td>0.000000</td>\n",
              "      <td>1.000000</td>\n",
              "      <td>0.000000</td>\n",
              "      <td>2.000000</td>\n",
              "      <td>1.000000</td>\n",
              "      <td>5.000000</td>\n",
              "      <td>0.000000</td>\n",
              "      <td>1961.000000</td>\n",
              "      <td>1.000000</td>\n",
              "      <td>334.500000</td>\n",
              "      <td>0.000000</td>\n",
              "      <td>0.000000</td>\n",
              "      <td>0.000000</td>\n",
              "      <td>0.000000</td>\n",
              "      <td>0.000000</td>\n",
              "      <td>0.000000</td>\n",
              "      <td>0.000000</td>\n",
              "      <td>5.000000</td>\n",
              "      <td>2007.000000</td>\n",
              "      <td>129975.000000</td>\n",
              "    </tr>\n",
              "    <tr>\n",
              "      <th>50%</th>\n",
              "      <td>50.000000</td>\n",
              "      <td>69.000000</td>\n",
              "      <td>9478.500000</td>\n",
              "      <td>6.000000</td>\n",
              "      <td>5.000000</td>\n",
              "      <td>1973.000000</td>\n",
              "      <td>1994.000000</td>\n",
              "      <td>0.000000</td>\n",
              "      <td>383.500000</td>\n",
              "      <td>0.000000</td>\n",
              "      <td>477.500000</td>\n",
              "      <td>991.500000</td>\n",
              "      <td>1087.000000</td>\n",
              "      <td>0.000000</td>\n",
              "      <td>0.000000</td>\n",
              "      <td>1464.000000</td>\n",
              "      <td>0.000000</td>\n",
              "      <td>0.000000</td>\n",
              "      <td>2.000000</td>\n",
              "      <td>0.000000</td>\n",
              "      <td>3.000000</td>\n",
              "      <td>1.000000</td>\n",
              "      <td>6.000000</td>\n",
              "      <td>1.000000</td>\n",
              "      <td>1980.000000</td>\n",
              "      <td>2.000000</td>\n",
              "      <td>480.000000</td>\n",
              "      <td>0.000000</td>\n",
              "      <td>25.000000</td>\n",
              "      <td>0.000000</td>\n",
              "      <td>0.000000</td>\n",
              "      <td>0.000000</td>\n",
              "      <td>0.000000</td>\n",
              "      <td>0.000000</td>\n",
              "      <td>6.000000</td>\n",
              "      <td>2008.000000</td>\n",
              "      <td>163000.000000</td>\n",
              "    </tr>\n",
              "    <tr>\n",
              "      <th>75%</th>\n",
              "      <td>70.000000</td>\n",
              "      <td>80.000000</td>\n",
              "      <td>11601.500000</td>\n",
              "      <td>7.000000</td>\n",
              "      <td>6.000000</td>\n",
              "      <td>2000.000000</td>\n",
              "      <td>2004.000000</td>\n",
              "      <td>166.000000</td>\n",
              "      <td>712.250000</td>\n",
              "      <td>0.000000</td>\n",
              "      <td>808.000000</td>\n",
              "      <td>1298.250000</td>\n",
              "      <td>1391.250000</td>\n",
              "      <td>728.000000</td>\n",
              "      <td>0.000000</td>\n",
              "      <td>1776.750000</td>\n",
              "      <td>1.000000</td>\n",
              "      <td>0.000000</td>\n",
              "      <td>2.000000</td>\n",
              "      <td>1.000000</td>\n",
              "      <td>3.000000</td>\n",
              "      <td>1.000000</td>\n",
              "      <td>7.000000</td>\n",
              "      <td>1.000000</td>\n",
              "      <td>2002.000000</td>\n",
              "      <td>2.000000</td>\n",
              "      <td>576.000000</td>\n",
              "      <td>168.000000</td>\n",
              "      <td>68.000000</td>\n",
              "      <td>0.000000</td>\n",
              "      <td>0.000000</td>\n",
              "      <td>0.000000</td>\n",
              "      <td>0.000000</td>\n",
              "      <td>0.000000</td>\n",
              "      <td>8.000000</td>\n",
              "      <td>2009.000000</td>\n",
              "      <td>214000.000000</td>\n",
              "    </tr>\n",
              "    <tr>\n",
              "      <th>max</th>\n",
              "      <td>190.000000</td>\n",
              "      <td>313.000000</td>\n",
              "      <td>215245.000000</td>\n",
              "      <td>10.000000</td>\n",
              "      <td>9.000000</td>\n",
              "      <td>2010.000000</td>\n",
              "      <td>2010.000000</td>\n",
              "      <td>1600.000000</td>\n",
              "      <td>5644.000000</td>\n",
              "      <td>1474.000000</td>\n",
              "      <td>2336.000000</td>\n",
              "      <td>6110.000000</td>\n",
              "      <td>4692.000000</td>\n",
              "      <td>2065.000000</td>\n",
              "      <td>572.000000</td>\n",
              "      <td>5642.000000</td>\n",
              "      <td>3.000000</td>\n",
              "      <td>2.000000</td>\n",
              "      <td>3.000000</td>\n",
              "      <td>2.000000</td>\n",
              "      <td>8.000000</td>\n",
              "      <td>3.000000</td>\n",
              "      <td>14.000000</td>\n",
              "      <td>3.000000</td>\n",
              "      <td>2010.000000</td>\n",
              "      <td>4.000000</td>\n",
              "      <td>1418.000000</td>\n",
              "      <td>857.000000</td>\n",
              "      <td>547.000000</td>\n",
              "      <td>552.000000</td>\n",
              "      <td>508.000000</td>\n",
              "      <td>480.000000</td>\n",
              "      <td>738.000000</td>\n",
              "      <td>15500.000000</td>\n",
              "      <td>12.000000</td>\n",
              "      <td>2010.000000</td>\n",
              "      <td>755000.000000</td>\n",
              "    </tr>\n",
              "  </tbody>\n",
              "</table>\n",
              "</div>"
            ],
            "text/plain": [
              "        MSSubClass  LotFrontage        LotArea  OverallQual  OverallCond  \\\n",
              "count  1460.000000  1201.000000    1460.000000  1460.000000  1460.000000   \n",
              "mean     56.897260    70.049958   10516.828082     6.099315     5.575342   \n",
              "std      42.300571    24.284752    9981.264932     1.382997     1.112799   \n",
              "min      20.000000    21.000000    1300.000000     1.000000     1.000000   \n",
              "25%      20.000000    59.000000    7553.500000     5.000000     5.000000   \n",
              "50%      50.000000    69.000000    9478.500000     6.000000     5.000000   \n",
              "75%      70.000000    80.000000   11601.500000     7.000000     6.000000   \n",
              "max     190.000000   313.000000  215245.000000    10.000000     9.000000   \n",
              "\n",
              "         YearBuilt  YearRemodAdd   MasVnrArea   BsmtFinSF1   BsmtFinSF2  \\\n",
              "count  1460.000000   1460.000000  1452.000000  1460.000000  1460.000000   \n",
              "mean   1971.267808   1984.865753   103.685262   443.639726    46.549315   \n",
              "std      30.202904     20.645407   181.066207   456.098091   161.319273   \n",
              "min    1872.000000   1950.000000     0.000000     0.000000     0.000000   \n",
              "25%    1954.000000   1967.000000     0.000000     0.000000     0.000000   \n",
              "50%    1973.000000   1994.000000     0.000000   383.500000     0.000000   \n",
              "75%    2000.000000   2004.000000   166.000000   712.250000     0.000000   \n",
              "max    2010.000000   2010.000000  1600.000000  5644.000000  1474.000000   \n",
              "\n",
              "         BsmtUnfSF  TotalBsmtSF     1stFlrSF     2ndFlrSF  LowQualFinSF  \\\n",
              "count  1460.000000  1460.000000  1460.000000  1460.000000   1460.000000   \n",
              "mean    567.240411  1057.429452  1162.626712   346.992466      5.844521   \n",
              "std     441.866955   438.705324   386.587738   436.528436     48.623081   \n",
              "min       0.000000     0.000000   334.000000     0.000000      0.000000   \n",
              "25%     223.000000   795.750000   882.000000     0.000000      0.000000   \n",
              "50%     477.500000   991.500000  1087.000000     0.000000      0.000000   \n",
              "75%     808.000000  1298.250000  1391.250000   728.000000      0.000000   \n",
              "max    2336.000000  6110.000000  4692.000000  2065.000000    572.000000   \n",
              "\n",
              "         GrLivArea  BsmtFullBath  BsmtHalfBath     FullBath     HalfBath  \\\n",
              "count  1460.000000   1460.000000   1460.000000  1460.000000  1460.000000   \n",
              "mean   1515.463699      0.425342      0.057534     1.565068     0.382877   \n",
              "std     525.480383      0.518911      0.238753     0.550916     0.502885   \n",
              "min     334.000000      0.000000      0.000000     0.000000     0.000000   \n",
              "25%    1129.500000      0.000000      0.000000     1.000000     0.000000   \n",
              "50%    1464.000000      0.000000      0.000000     2.000000     0.000000   \n",
              "75%    1776.750000      1.000000      0.000000     2.000000     1.000000   \n",
              "max    5642.000000      3.000000      2.000000     3.000000     2.000000   \n",
              "\n",
              "       BedroomAbvGr  KitchenAbvGr  TotRmsAbvGrd   Fireplaces  GarageYrBlt  \\\n",
              "count   1460.000000   1460.000000   1460.000000  1460.000000  1379.000000   \n",
              "mean       2.866438      1.046575      6.517808     0.613014  1978.506164   \n",
              "std        0.815778      0.220338      1.625393     0.644666    24.689725   \n",
              "min        0.000000      0.000000      2.000000     0.000000  1900.000000   \n",
              "25%        2.000000      1.000000      5.000000     0.000000  1961.000000   \n",
              "50%        3.000000      1.000000      6.000000     1.000000  1980.000000   \n",
              "75%        3.000000      1.000000      7.000000     1.000000  2002.000000   \n",
              "max        8.000000      3.000000     14.000000     3.000000  2010.000000   \n",
              "\n",
              "        GarageCars   GarageArea   WoodDeckSF  OpenPorchSF  EnclosedPorch  \\\n",
              "count  1460.000000  1460.000000  1460.000000  1460.000000    1460.000000   \n",
              "mean      1.767123   472.980137    94.244521    46.660274      21.954110   \n",
              "std       0.747315   213.804841   125.338794    66.256028      61.119149   \n",
              "min       0.000000     0.000000     0.000000     0.000000       0.000000   \n",
              "25%       1.000000   334.500000     0.000000     0.000000       0.000000   \n",
              "50%       2.000000   480.000000     0.000000    25.000000       0.000000   \n",
              "75%       2.000000   576.000000   168.000000    68.000000       0.000000   \n",
              "max       4.000000  1418.000000   857.000000   547.000000     552.000000   \n",
              "\n",
              "         3SsnPorch  ScreenPorch     PoolArea       MiscVal       MoSold  \\\n",
              "count  1460.000000  1460.000000  1460.000000   1460.000000  1460.000000   \n",
              "mean      3.409589    15.060959     2.758904     43.489041     6.321918   \n",
              "std      29.317331    55.757415    40.177307    496.123024     2.703626   \n",
              "min       0.000000     0.000000     0.000000      0.000000     1.000000   \n",
              "25%       0.000000     0.000000     0.000000      0.000000     5.000000   \n",
              "50%       0.000000     0.000000     0.000000      0.000000     6.000000   \n",
              "75%       0.000000     0.000000     0.000000      0.000000     8.000000   \n",
              "max     508.000000   480.000000   738.000000  15500.000000    12.000000   \n",
              "\n",
              "            YrSold      SalePrice  \n",
              "count  1460.000000    1460.000000  \n",
              "mean   2007.815753  180921.195890  \n",
              "std       1.328095   79442.502883  \n",
              "min    2006.000000   34900.000000  \n",
              "25%    2007.000000  129975.000000  \n",
              "50%    2008.000000  163000.000000  \n",
              "75%    2009.000000  214000.000000  \n",
              "max    2010.000000  755000.000000  "
            ]
          },
          "metadata": {},
          "execution_count": 342
        }
      ]
    },
    {
      "cell_type": "code",
      "metadata": {
        "colab": {
          "base_uri": "https://localhost:8080/"
        },
        "id": "KetcqUQbdMBM",
        "outputId": "1ce0e9f6-a48b-4b55-b08e-993461228426"
      },
      "source": [
        "data_set.info()"
      ],
      "execution_count": 343,
      "outputs": [
        {
          "output_type": "stream",
          "name": "stdout",
          "text": [
            "<class 'pandas.core.frame.DataFrame'>\n",
            "Int64Index: 1460 entries, 1 to 1460\n",
            "Data columns (total 80 columns):\n",
            " #   Column         Non-Null Count  Dtype  \n",
            "---  ------         --------------  -----  \n",
            " 0   MSSubClass     1460 non-null   int64  \n",
            " 1   MSZoning       1460 non-null   object \n",
            " 2   LotFrontage    1201 non-null   float64\n",
            " 3   LotArea        1460 non-null   int64  \n",
            " 4   Street         1460 non-null   object \n",
            " 5   Alley          91 non-null     object \n",
            " 6   LotShape       1460 non-null   object \n",
            " 7   LandContour    1460 non-null   object \n",
            " 8   Utilities      1460 non-null   object \n",
            " 9   LotConfig      1460 non-null   object \n",
            " 10  LandSlope      1460 non-null   object \n",
            " 11  Neighborhood   1460 non-null   object \n",
            " 12  Condition1     1460 non-null   object \n",
            " 13  Condition2     1460 non-null   object \n",
            " 14  BldgType       1460 non-null   object \n",
            " 15  HouseStyle     1460 non-null   object \n",
            " 16  OverallQual    1460 non-null   int64  \n",
            " 17  OverallCond    1460 non-null   int64  \n",
            " 18  YearBuilt      1460 non-null   int64  \n",
            " 19  YearRemodAdd   1460 non-null   int64  \n",
            " 20  RoofStyle      1460 non-null   object \n",
            " 21  RoofMatl       1460 non-null   object \n",
            " 22  Exterior1st    1460 non-null   object \n",
            " 23  Exterior2nd    1460 non-null   object \n",
            " 24  MasVnrType     1452 non-null   object \n",
            " 25  MasVnrArea     1452 non-null   float64\n",
            " 26  ExterQual      1460 non-null   object \n",
            " 27  ExterCond      1460 non-null   object \n",
            " 28  Foundation     1460 non-null   object \n",
            " 29  BsmtQual       1423 non-null   object \n",
            " 30  BsmtCond       1423 non-null   object \n",
            " 31  BsmtExposure   1422 non-null   object \n",
            " 32  BsmtFinType1   1423 non-null   object \n",
            " 33  BsmtFinSF1     1460 non-null   int64  \n",
            " 34  BsmtFinType2   1422 non-null   object \n",
            " 35  BsmtFinSF2     1460 non-null   int64  \n",
            " 36  BsmtUnfSF      1460 non-null   int64  \n",
            " 37  TotalBsmtSF    1460 non-null   int64  \n",
            " 38  Heating        1460 non-null   object \n",
            " 39  HeatingQC      1460 non-null   object \n",
            " 40  CentralAir     1460 non-null   object \n",
            " 41  Electrical     1459 non-null   object \n",
            " 42  1stFlrSF       1460 non-null   int64  \n",
            " 43  2ndFlrSF       1460 non-null   int64  \n",
            " 44  LowQualFinSF   1460 non-null   int64  \n",
            " 45  GrLivArea      1460 non-null   int64  \n",
            " 46  BsmtFullBath   1460 non-null   int64  \n",
            " 47  BsmtHalfBath   1460 non-null   int64  \n",
            " 48  FullBath       1460 non-null   int64  \n",
            " 49  HalfBath       1460 non-null   int64  \n",
            " 50  BedroomAbvGr   1460 non-null   int64  \n",
            " 51  KitchenAbvGr   1460 non-null   int64  \n",
            " 52  KitchenQual    1460 non-null   object \n",
            " 53  TotRmsAbvGrd   1460 non-null   int64  \n",
            " 54  Functional     1460 non-null   object \n",
            " 55  Fireplaces     1460 non-null   int64  \n",
            " 56  FireplaceQu    770 non-null    object \n",
            " 57  GarageType     1379 non-null   object \n",
            " 58  GarageYrBlt    1379 non-null   float64\n",
            " 59  GarageFinish   1379 non-null   object \n",
            " 60  GarageCars     1460 non-null   int64  \n",
            " 61  GarageArea     1460 non-null   int64  \n",
            " 62  GarageQual     1379 non-null   object \n",
            " 63  GarageCond     1379 non-null   object \n",
            " 64  PavedDrive     1460 non-null   object \n",
            " 65  WoodDeckSF     1460 non-null   int64  \n",
            " 66  OpenPorchSF    1460 non-null   int64  \n",
            " 67  EnclosedPorch  1460 non-null   int64  \n",
            " 68  3SsnPorch      1460 non-null   int64  \n",
            " 69  ScreenPorch    1460 non-null   int64  \n",
            " 70  PoolArea       1460 non-null   int64  \n",
            " 71  PoolQC         7 non-null      object \n",
            " 72  Fence          281 non-null    object \n",
            " 73  MiscFeature    54 non-null     object \n",
            " 74  MiscVal        1460 non-null   int64  \n",
            " 75  MoSold         1460 non-null   int64  \n",
            " 76  YrSold         1460 non-null   int64  \n",
            " 77  SaleType       1460 non-null   object \n",
            " 78  SaleCondition  1460 non-null   object \n",
            " 79  SalePrice      1460 non-null   int64  \n",
            "dtypes: float64(3), int64(34), object(43)\n",
            "memory usage: 923.9+ KB\n"
          ]
        }
      ]
    },
    {
      "cell_type": "markdown",
      "metadata": {
        "id": "ihVYWQnubloP"
      },
      "source": [
        "# Categorical & Numerical"
      ]
    },
    {
      "cell_type": "code",
      "metadata": {
        "id": "r8AbllY5Zq3i"
      },
      "source": [
        "numerical_data = data_set.select_dtypes(exclude=['object'])\n",
        "categorical_data = data_set.select_dtypes(exclude=['float64',\"int64\"])"
      ],
      "execution_count": 344,
      "outputs": []
    },
    {
      "cell_type": "code",
      "metadata": {
        "colab": {
          "base_uri": "https://localhost:8080/"
        },
        "id": "y5n6vsCEbJzf",
        "outputId": "52a34178-8e0d-437f-e2aa-076895ea3124"
      },
      "source": [
        "numerical_data.columns"
      ],
      "execution_count": 345,
      "outputs": [
        {
          "output_type": "execute_result",
          "data": {
            "text/plain": [
              "Index(['MSSubClass', 'LotFrontage', 'LotArea', 'OverallQual', 'OverallCond',\n",
              "       'YearBuilt', 'YearRemodAdd', 'MasVnrArea', 'BsmtFinSF1', 'BsmtFinSF2',\n",
              "       'BsmtUnfSF', 'TotalBsmtSF', '1stFlrSF', '2ndFlrSF', 'LowQualFinSF',\n",
              "       'GrLivArea', 'BsmtFullBath', 'BsmtHalfBath', 'FullBath', 'HalfBath',\n",
              "       'BedroomAbvGr', 'KitchenAbvGr', 'TotRmsAbvGrd', 'Fireplaces',\n",
              "       'GarageYrBlt', 'GarageCars', 'GarageArea', 'WoodDeckSF', 'OpenPorchSF',\n",
              "       'EnclosedPorch', '3SsnPorch', 'ScreenPorch', 'PoolArea', 'MiscVal',\n",
              "       'MoSold', 'YrSold', 'SalePrice'],\n",
              "      dtype='object')"
            ]
          },
          "metadata": {},
          "execution_count": 345
        }
      ]
    },
    {
      "cell_type": "code",
      "metadata": {
        "colab": {
          "base_uri": "https://localhost:8080/"
        },
        "id": "0ltO_XvDbidK",
        "outputId": "621bf64e-c938-47b8-d949-cce3b7fbe668"
      },
      "source": [
        "categorical_data.columns"
      ],
      "execution_count": 346,
      "outputs": [
        {
          "output_type": "execute_result",
          "data": {
            "text/plain": [
              "Index(['MSZoning', 'Street', 'Alley', 'LotShape', 'LandContour', 'Utilities',\n",
              "       'LotConfig', 'LandSlope', 'Neighborhood', 'Condition1', 'Condition2',\n",
              "       'BldgType', 'HouseStyle', 'RoofStyle', 'RoofMatl', 'Exterior1st',\n",
              "       'Exterior2nd', 'MasVnrType', 'ExterQual', 'ExterCond', 'Foundation',\n",
              "       'BsmtQual', 'BsmtCond', 'BsmtExposure', 'BsmtFinType1', 'BsmtFinType2',\n",
              "       'Heating', 'HeatingQC', 'CentralAir', 'Electrical', 'KitchenQual',\n",
              "       'Functional', 'FireplaceQu', 'GarageType', 'GarageFinish', 'GarageQual',\n",
              "       'GarageCond', 'PavedDrive', 'PoolQC', 'Fence', 'MiscFeature',\n",
              "       'SaleType', 'SaleCondition'],\n",
              "      dtype='object')"
            ]
          },
          "metadata": {},
          "execution_count": 346
        }
      ]
    },
    {
      "cell_type": "markdown",
      "metadata": {
        "id": "dlTKduyPcR6R"
      },
      "source": [
        "# Columns which has missing values"
      ]
    },
    {
      "cell_type": "code",
      "metadata": {
        "colab": {
          "base_uri": "https://localhost:8080/"
        },
        "id": "BBKoJuoxYekC",
        "outputId": "89697bf8-28ea-4a7b-a70e-5e4579e7a714"
      },
      "source": [
        "data_set.columns[data_set.isnull().any()]"
      ],
      "execution_count": 347,
      "outputs": [
        {
          "output_type": "execute_result",
          "data": {
            "text/plain": [
              "Index(['LotFrontage', 'Alley', 'MasVnrType', 'MasVnrArea', 'BsmtQual',\n",
              "       'BsmtCond', 'BsmtExposure', 'BsmtFinType1', 'BsmtFinType2',\n",
              "       'Electrical', 'FireplaceQu', 'GarageType', 'GarageYrBlt',\n",
              "       'GarageFinish', 'GarageQual', 'GarageCond', 'PoolQC', 'Fence',\n",
              "       'MiscFeature'],\n",
              "      dtype='object')"
            ]
          },
          "metadata": {},
          "execution_count": 347
        }
      ]
    },
    {
      "cell_type": "code",
      "metadata": {
        "colab": {
          "base_uri": "https://localhost:8080/"
        },
        "id": "XNv1qbKOYhle",
        "outputId": "be80b572-0ade-4c0a-f7a9-10668b6407a1"
      },
      "source": [
        "data_set.nunique()"
      ],
      "execution_count": 348,
      "outputs": [
        {
          "output_type": "execute_result",
          "data": {
            "text/plain": [
              "MSSubClass         15\n",
              "MSZoning            5\n",
              "LotFrontage       110\n",
              "LotArea          1073\n",
              "Street              2\n",
              "Alley               2\n",
              "LotShape            4\n",
              "LandContour         4\n",
              "Utilities           2\n",
              "LotConfig           5\n",
              "LandSlope           3\n",
              "Neighborhood       25\n",
              "Condition1          9\n",
              "Condition2          8\n",
              "BldgType            5\n",
              "HouseStyle          8\n",
              "OverallQual        10\n",
              "OverallCond         9\n",
              "YearBuilt         112\n",
              "YearRemodAdd       61\n",
              "RoofStyle           6\n",
              "RoofMatl            8\n",
              "Exterior1st        15\n",
              "Exterior2nd        16\n",
              "MasVnrType          4\n",
              "MasVnrArea        327\n",
              "ExterQual           4\n",
              "ExterCond           5\n",
              "Foundation          6\n",
              "BsmtQual            4\n",
              "BsmtCond            4\n",
              "BsmtExposure        4\n",
              "BsmtFinType1        6\n",
              "BsmtFinSF1        637\n",
              "BsmtFinType2        6\n",
              "BsmtFinSF2        144\n",
              "BsmtUnfSF         780\n",
              "TotalBsmtSF       721\n",
              "Heating             6\n",
              "HeatingQC           5\n",
              "CentralAir          2\n",
              "Electrical          5\n",
              "1stFlrSF          753\n",
              "2ndFlrSF          417\n",
              "LowQualFinSF       24\n",
              "GrLivArea         861\n",
              "BsmtFullBath        4\n",
              "BsmtHalfBath        3\n",
              "FullBath            4\n",
              "HalfBath            3\n",
              "BedroomAbvGr        8\n",
              "KitchenAbvGr        4\n",
              "KitchenQual         4\n",
              "TotRmsAbvGrd       12\n",
              "Functional          7\n",
              "Fireplaces          4\n",
              "FireplaceQu         5\n",
              "GarageType          6\n",
              "GarageYrBlt        97\n",
              "GarageFinish        3\n",
              "GarageCars          5\n",
              "GarageArea        441\n",
              "GarageQual          5\n",
              "GarageCond          5\n",
              "PavedDrive          3\n",
              "WoodDeckSF        274\n",
              "OpenPorchSF       202\n",
              "EnclosedPorch     120\n",
              "3SsnPorch          20\n",
              "ScreenPorch        76\n",
              "PoolArea            8\n",
              "PoolQC              3\n",
              "Fence               4\n",
              "MiscFeature         4\n",
              "MiscVal            21\n",
              "MoSold             12\n",
              "YrSold              5\n",
              "SaleType            9\n",
              "SaleCondition       6\n",
              "SalePrice         663\n",
              "dtype: int64"
            ]
          },
          "metadata": {},
          "execution_count": 348
        }
      ]
    },
    {
      "cell_type": "markdown",
      "metadata": {
        "id": "jIOzmFtxodL0"
      },
      "source": [
        "## NOMINAL CATEGORICAL\n",
        "[MSSubClass,MSZoning,Alley,LandContour,LotConfig,Neighborhood,Condition1,\n",
        "Condition2,BldgType,RoofStyle,RoofMatl,Exterior1st,Exterior2nd,MasVnrType,\n",
        "Foundation,Heating,GarageType,MiscFeature,SaleType,SaleCondition]"
      ]
    },
    {
      "cell_type": "markdown",
      "metadata": {
        "id": "lCVy3NHvomiZ"
      },
      "source": [
        "## ORDINAL CATEGORICAL\n",
        "[LotShape,Utilities,LandSlope,HouseStyle,OverallQual,OverallCond,ExterQual,ExterCond,BsmtQual,BsmtCond,BsmtExposure,BsmtFinType1,BsmtFinType2,\n",
        "HeatingQC,Electrical,KitchenQual,Functional,FireplaceQu,GarageType,GarageFinish,GarageQual,GarageCond,PavedDrive,PoolQC,Fence]"
      ]
    },
    {
      "cell_type": "markdown",
      "metadata": {
        "id": "jQw9H22ooxcQ"
      },
      "source": [
        "## BINARY CATEGORICAL\n",
        "[Street,CentralAir]"
      ]
    },
    {
      "cell_type": "code",
      "metadata": {
        "colab": {
          "base_uri": "https://localhost:8080/"
        },
        "id": "1N_gyzQcMv4c",
        "outputId": "23d7f3a3-80c3-42d2-99af-a42c25a511e9"
      },
      "source": [
        "numerical_data.columns"
      ],
      "execution_count": 349,
      "outputs": [
        {
          "output_type": "execute_result",
          "data": {
            "text/plain": [
              "Index(['MSSubClass', 'LotFrontage', 'LotArea', 'OverallQual', 'OverallCond',\n",
              "       'YearBuilt', 'YearRemodAdd', 'MasVnrArea', 'BsmtFinSF1', 'BsmtFinSF2',\n",
              "       'BsmtUnfSF', 'TotalBsmtSF', '1stFlrSF', '2ndFlrSF', 'LowQualFinSF',\n",
              "       'GrLivArea', 'BsmtFullBath', 'BsmtHalfBath', 'FullBath', 'HalfBath',\n",
              "       'BedroomAbvGr', 'KitchenAbvGr', 'TotRmsAbvGrd', 'Fireplaces',\n",
              "       'GarageYrBlt', 'GarageCars', 'GarageArea', 'WoodDeckSF', 'OpenPorchSF',\n",
              "       'EnclosedPorch', '3SsnPorch', 'ScreenPorch', 'PoolArea', 'MiscVal',\n",
              "       'MoSold', 'YrSold', 'SalePrice'],\n",
              "      dtype='object')"
            ]
          },
          "metadata": {},
          "execution_count": 349
        }
      ]
    },
    {
      "cell_type": "code",
      "metadata": {
        "id": "NIjL6NgwMbJt"
      },
      "source": [
        "#numerical_columns = pd.DataFrame(list(numerical_data.columns.values))\n",
        "#numerical_columns.shape"
      ],
      "execution_count": 350,
      "outputs": []
    },
    {
      "cell_type": "code",
      "metadata": {
        "id": "83jUVhXyEo8w"
      },
      "source": [
        "from sklearn.impute import SimpleImputer"
      ],
      "execution_count": 351,
      "outputs": []
    },
    {
      "cell_type": "code",
      "metadata": {
        "id": "X1paZ-nwBB2i"
      },
      "source": [
        "deleted_columns=[\"Alley\",\"PoolQC\",\"Fence\",\"MiscFeature\"]\n",
        "numerical_columns = [numerical_data]"
      ],
      "execution_count": 352,
      "outputs": []
    },
    {
      "cell_type": "code",
      "metadata": {
        "id": "cn05eWoWCOv5"
      },
      "source": [
        "data_set.drop(labels=deleted_columns,axis=1,inplace=True)\n",
        "submission_test_df.drop(labels=deleted_columns,axis=1,inplace=True)"
      ],
      "execution_count": 353,
      "outputs": []
    },
    {
      "cell_type": "code",
      "metadata": {
        "colab": {
          "base_uri": "https://localhost:8080/"
        },
        "id": "ti87NTTxCBY0",
        "outputId": "85f23747-421c-493a-9d15-50a5cd5b53fb"
      },
      "source": [
        "\n",
        "binary_cols= [\"Street\",\"CentralAir\"]\n",
        "nominal_cols= [\"MSSubClass\",\"MSZoning\",\"LandContour\",\"LotConfig\",\"Neighborhood\",\"Condition1\", \"Condition2\",\"BldgType\",\"RoofStyle\",\"RoofMatl\",\"Exterior1st\",\"Exterior2nd\",\"MasVnrType\", \"Foundation\",\"Heating\",\"GarageType\",\"SaleType\",\"SaleCondition\"]\n",
        "ordinal_cols = [\"LotShape\",\"Utilities\",\"LandSlope\",\"HouseStyle\",\"OverallQual\",\"OverallCond\",\"ExterQual\",\"ExterCond\",\"BsmtQual\",\"BsmtCond\",\"BsmtExposure\",\"BsmtFinType1\",\"BsmtFinType2\", \"HeatingQC\",\"Electrical\",\"KitchenQual\",\"Functional\",\"FireplaceQu\",\"GarageType\",\"GarageFinish\",\"GarageQual\",\"GarageCond\",\"PavedDrive\",]\n",
        "\n",
        "categoricals = binary_cols + nominal_cols + ordinal_cols\n",
        "np.size(categoricals)"
      ],
      "execution_count": 354,
      "outputs": [
        {
          "output_type": "execute_result",
          "data": {
            "text/plain": [
              "43"
            ]
          },
          "metadata": {},
          "execution_count": 354
        }
      ]
    },
    {
      "cell_type": "code",
      "metadata": {
        "id": "tyf13bElDbVx"
      },
      "source": [
        "from sklearn.model_selection import train_test_split\n",
        "\n",
        "X=data_set.iloc[:,:-1]\n",
        "y=data_set[\"SalePrice\"]\n",
        "\n",
        "X_train, X_test, y_train, y_test = train_test_split(X, y, test_size=0.2, random_state=42)\n",
        "\n",
        "X_test_size = X.shape[0]-X_test.shape[0]"
      ],
      "execution_count": 355,
      "outputs": []
    },
    {
      "cell_type": "code",
      "metadata": {
        "id": "_TOvNABTBmYJ"
      },
      "source": [
        "def fill_cat(X_train,X_test,y_train=None,y_test=None):\n",
        "\n",
        "    imp_most_frequent = SimpleImputer(missing_values=np.nan, strategy='most_frequent') \n",
        "    X_train[categoricals] = imp_most_frequent.fit_transform(X_train[categoricals])\n",
        "    X_test[categoricals] = imp_most_frequent.transform(X_test[categoricals])\n",
        "\n",
        "    if y_train != None:\n",
        "\n",
        "        imp = SimpleImputer(missing_values=np.nan, strategy='most_frequent')\n",
        "        y_train = imp.fit_transform(y_train)\n",
        "        y_test = imp.transform(y_test)\n",
        "    "
      ],
      "execution_count": 356,
      "outputs": []
    },
    {
      "cell_type": "code",
      "metadata": {
        "colab": {
          "base_uri": "https://localhost:8080/"
        },
        "id": "qA8QQILNTl2b",
        "outputId": "69926f70-d81c-4e25-d9f2-e5842d1a867a"
      },
      "source": [
        "numerics=[]\n",
        "for each in data_set.columns:\n",
        "        \n",
        "    if not(each in categoricals ) and (each!=\"SalePrice\"):\n",
        "        print(each,data_set[each].dtype)\n",
        "        numerics.append(each)\n",
        "\n",
        "np.size(numerics)"
      ],
      "execution_count": 357,
      "outputs": [
        {
          "output_type": "stream",
          "name": "stdout",
          "text": [
            "LotFrontage float64\n",
            "LotArea int64\n",
            "YearBuilt int64\n",
            "YearRemodAdd int64\n",
            "MasVnrArea float64\n",
            "BsmtFinSF1 int64\n",
            "BsmtFinSF2 int64\n",
            "BsmtUnfSF int64\n",
            "TotalBsmtSF int64\n",
            "1stFlrSF int64\n",
            "2ndFlrSF int64\n",
            "LowQualFinSF int64\n",
            "GrLivArea int64\n",
            "BsmtFullBath int64\n",
            "BsmtHalfBath int64\n",
            "FullBath int64\n",
            "HalfBath int64\n",
            "BedroomAbvGr int64\n",
            "KitchenAbvGr int64\n",
            "TotRmsAbvGrd int64\n",
            "Fireplaces int64\n",
            "GarageYrBlt float64\n",
            "GarageCars int64\n",
            "GarageArea int64\n",
            "WoodDeckSF int64\n",
            "OpenPorchSF int64\n",
            "EnclosedPorch int64\n",
            "3SsnPorch int64\n",
            "ScreenPorch int64\n",
            "PoolArea int64\n",
            "MiscVal int64\n",
            "MoSold int64\n",
            "YrSold int64\n"
          ]
        },
        {
          "output_type": "execute_result",
          "data": {
            "text/plain": [
              "33"
            ]
          },
          "metadata": {},
          "execution_count": 357
        }
      ]
    },
    {
      "cell_type": "code",
      "metadata": {
        "id": "EHolD5OaA4mG"
      },
      "source": [
        "def fill_num(X_train,X_test,y_train=None,y_test=None):\n",
        "    \n",
        "    \n",
        "    imp = SimpleImputer(missing_values=np.nan, strategy='mean')\n",
        "    X_train[numerics] = imp.fit_transform(X_train[numerics])\n",
        "    X_test[numerics] = imp.transform(X_test[numerics])\n",
        "    \n",
        "    mean = np.mean(y_train.values)\n",
        "    y_train.fillna(mean)\n",
        "    y_test.fillna(mean)"
      ],
      "execution_count": 358,
      "outputs": []
    },
    {
      "cell_type": "code",
      "metadata": {
        "id": "vHeNl4N3ZKyE"
      },
      "source": [
        "def fill_cat_submission(X_train,submission_test_df):\n",
        "\n",
        "    imp_most_frequent = SimpleImputer(missing_values=np.nan, strategy='most_frequent') \n",
        "    X_train[categoricals] = imp_most_frequent.fit_transform(X_train[categoricals])\n",
        "    submission_test_df[categoricals] = imp_most_frequent.transform(submission_test_df[categoricals])\n",
        "\n",
        "def fill_num_submission(X_train,submission_test_df):\n",
        "    \n",
        "    \n",
        "    imp = SimpleImputer(missing_values=np.nan, strategy='mean')\n",
        "    X_train[numerics] = imp.fit_transform(X_train[numerics])\n",
        "    submission_test_df[numerics] = imp.transform(submission_test_df[numerics])\n",
        "    \n"
      ],
      "execution_count": 359,
      "outputs": []
    },
    {
      "cell_type": "code",
      "metadata": {
        "colab": {
          "base_uri": "https://localhost:8080/"
        },
        "id": "D1cmpjbhA8fN",
        "outputId": "92a2c0b4-92c4-4c2d-d3f5-eb472a753d55"
      },
      "source": [
        "fill_cat(X_train,X_test)\n",
        "print(\"X_train shape: \",X_train.shape)\n",
        "\n",
        "fill_num(X_train,X_test,y_train,y_test)\n",
        "print(\"X_train shape: \",X_train.shape)"
      ],
      "execution_count": 360,
      "outputs": [
        {
          "output_type": "stream",
          "name": "stdout",
          "text": [
            "X_train shape:  (1168, 75)\n",
            "X_train shape:  (1168, 75)\n"
          ]
        }
      ]
    },
    {
      "cell_type": "code",
      "metadata": {
        "colab": {
          "base_uri": "https://localhost:8080/"
        },
        "id": "ZVtVcoCeI8aZ",
        "outputId": "97b847bc-298f-4785-bd74-7b7500888948"
      },
      "source": [
        "print(\"missing count before filling :\",submission_test_df.isna().sum().sum())\n",
        "fill_cat_submission(X_train,submission_test_df)\n",
        "\n",
        "fill_num_submission(X_train,submission_test_df)\n",
        "print(\"missing count after filling :\",submission_test_df.isna().sum().sum())"
      ],
      "execution_count": 361,
      "outputs": [
        {
          "output_type": "stream",
          "name": "stdout",
          "text": [
            "missing count before filling : 1615\n",
            "missing count after filling : 0\n"
          ]
        }
      ]
    },
    {
      "cell_type": "markdown",
      "metadata": {
        "id": "eMRFudphqHgo"
      },
      "source": [
        "OUTLIER"
      ]
    },
    {
      "cell_type": "code",
      "metadata": {
        "id": "XMnuNJ8NqGCE"
      },
      "source": [
        "#numerics"
      ],
      "execution_count": 362,
      "outputs": []
    },
    {
      "cell_type": "code",
      "metadata": {
        "id": "o6oypr4eqFwD"
      },
      "source": [
        "#from scipy import stats\n",
        "\n",
        "#stats.zscore(X_train[numerics]).shape\n",
        "#df[(np.abs(stats.zscore(df)) < 3).all(axis=1)]"
      ],
      "execution_count": 363,
      "outputs": []
    },
    {
      "cell_type": "code",
      "metadata": {
        "colab": {
          "base_uri": "https://localhost:8080/"
        },
        "id": "K1aEdmc_uqIV",
        "outputId": "b32cc931-e4dc-435a-81de-f7b728e4f8e0"
      },
      "source": [
        "from sklearn.preprocessing import LabelEncoder\n",
        "\n",
        "X_temp = pd.concat([X_train,X_test],axis = 0)\n",
        "y_temp = pd.concat([y_train,y_test],axis = 0)\n",
        "print(X_temp.shape,y_temp.shape)\n",
        "data_set = pd.concat([X_temp,y_temp],axis=1)\n",
        "\n",
        "for each in categoricals:\n",
        "    data_set[each]=LabelEncoder().fit_transform(data_set[each])\n",
        "    submission_test_df[each]=LabelEncoder().fit_transform(submission_test_df[each])\n",
        "\n"
      ],
      "execution_count": 364,
      "outputs": [
        {
          "output_type": "stream",
          "name": "stdout",
          "text": [
            "(1460, 75) (1460,)\n"
          ]
        }
      ]
    },
    {
      "cell_type": "code",
      "metadata": {
        "colab": {
          "base_uri": "https://localhost:8080/"
        },
        "id": "0fqVWDOxbsAe",
        "outputId": "13d07b20-3461-46f8-f55c-52f6a32e4c5f"
      },
      "source": [
        "submission_test_df.info()"
      ],
      "execution_count": 365,
      "outputs": [
        {
          "output_type": "stream",
          "name": "stdout",
          "text": [
            "<class 'pandas.core.frame.DataFrame'>\n",
            "Int64Index: 1459 entries, 1461 to 2919\n",
            "Data columns (total 75 columns):\n",
            " #   Column         Non-Null Count  Dtype  \n",
            "---  ------         --------------  -----  \n",
            " 0   MSSubClass     1459 non-null   int64  \n",
            " 1   MSZoning       1459 non-null   int64  \n",
            " 2   LotFrontage    1459 non-null   float64\n",
            " 3   LotArea        1459 non-null   float64\n",
            " 4   Street         1459 non-null   int64  \n",
            " 5   LotShape       1459 non-null   int64  \n",
            " 6   LandContour    1459 non-null   int64  \n",
            " 7   Utilities      1459 non-null   int64  \n",
            " 8   LotConfig      1459 non-null   int64  \n",
            " 9   LandSlope      1459 non-null   int64  \n",
            " 10  Neighborhood   1459 non-null   int64  \n",
            " 11  Condition1     1459 non-null   int64  \n",
            " 12  Condition2     1459 non-null   int64  \n",
            " 13  BldgType       1459 non-null   int64  \n",
            " 14  HouseStyle     1459 non-null   int64  \n",
            " 15  OverallQual    1459 non-null   int64  \n",
            " 16  OverallCond    1459 non-null   int64  \n",
            " 17  YearBuilt      1459 non-null   float64\n",
            " 18  YearRemodAdd   1459 non-null   float64\n",
            " 19  RoofStyle      1459 non-null   int64  \n",
            " 20  RoofMatl       1459 non-null   int64  \n",
            " 21  Exterior1st    1459 non-null   int64  \n",
            " 22  Exterior2nd    1459 non-null   int64  \n",
            " 23  MasVnrType     1459 non-null   int64  \n",
            " 24  MasVnrArea     1459 non-null   float64\n",
            " 25  ExterQual      1459 non-null   int64  \n",
            " 26  ExterCond      1459 non-null   int64  \n",
            " 27  Foundation     1459 non-null   int64  \n",
            " 28  BsmtQual       1459 non-null   int64  \n",
            " 29  BsmtCond       1459 non-null   int64  \n",
            " 30  BsmtExposure   1459 non-null   int64  \n",
            " 31  BsmtFinType1   1459 non-null   int64  \n",
            " 32  BsmtFinSF1     1459 non-null   float64\n",
            " 33  BsmtFinType2   1459 non-null   int64  \n",
            " 34  BsmtFinSF2     1459 non-null   float64\n",
            " 35  BsmtUnfSF      1459 non-null   float64\n",
            " 36  TotalBsmtSF    1459 non-null   float64\n",
            " 37  Heating        1459 non-null   int64  \n",
            " 38  HeatingQC      1459 non-null   int64  \n",
            " 39  CentralAir     1459 non-null   int64  \n",
            " 40  Electrical     1459 non-null   int64  \n",
            " 41  1stFlrSF       1459 non-null   float64\n",
            " 42  2ndFlrSF       1459 non-null   float64\n",
            " 43  LowQualFinSF   1459 non-null   float64\n",
            " 44  GrLivArea      1459 non-null   float64\n",
            " 45  BsmtFullBath   1459 non-null   float64\n",
            " 46  BsmtHalfBath   1459 non-null   float64\n",
            " 47  FullBath       1459 non-null   float64\n",
            " 48  HalfBath       1459 non-null   float64\n",
            " 49  BedroomAbvGr   1459 non-null   float64\n",
            " 50  KitchenAbvGr   1459 non-null   float64\n",
            " 51  KitchenQual    1459 non-null   int64  \n",
            " 52  TotRmsAbvGrd   1459 non-null   float64\n",
            " 53  Functional     1459 non-null   int64  \n",
            " 54  Fireplaces     1459 non-null   float64\n",
            " 55  FireplaceQu    1459 non-null   int64  \n",
            " 56  GarageType     1459 non-null   int64  \n",
            " 57  GarageYrBlt    1459 non-null   float64\n",
            " 58  GarageFinish   1459 non-null   int64  \n",
            " 59  GarageCars     1459 non-null   float64\n",
            " 60  GarageArea     1459 non-null   float64\n",
            " 61  GarageQual     1459 non-null   int64  \n",
            " 62  GarageCond     1459 non-null   int64  \n",
            " 63  PavedDrive     1459 non-null   int64  \n",
            " 64  WoodDeckSF     1459 non-null   float64\n",
            " 65  OpenPorchSF    1459 non-null   float64\n",
            " 66  EnclosedPorch  1459 non-null   float64\n",
            " 67  3SsnPorch      1459 non-null   float64\n",
            " 68  ScreenPorch    1459 non-null   float64\n",
            " 69  PoolArea       1459 non-null   float64\n",
            " 70  MiscVal        1459 non-null   float64\n",
            " 71  MoSold         1459 non-null   float64\n",
            " 72  YrSold         1459 non-null   float64\n",
            " 73  SaleType       1459 non-null   int64  \n",
            " 74  SaleCondition  1459 non-null   int64  \n",
            "dtypes: float64(33), int64(42)\n",
            "memory usage: 866.3 KB\n"
          ]
        }
      ]
    },
    {
      "cell_type": "code",
      "metadata": {
        "colab": {
          "base_uri": "https://localhost:8080/"
        },
        "id": "EFgR6l6wY2i6",
        "outputId": "ac6d551f-daa0-4105-e99c-536fc4fad798"
      },
      "source": [
        "data_set.info()\n"
      ],
      "execution_count": 366,
      "outputs": [
        {
          "output_type": "stream",
          "name": "stdout",
          "text": [
            "<class 'pandas.core.frame.DataFrame'>\n",
            "Int64Index: 1460 entries, 255 to 723\n",
            "Data columns (total 76 columns):\n",
            " #   Column         Non-Null Count  Dtype  \n",
            "---  ------         --------------  -----  \n",
            " 0   MSSubClass     1460 non-null   int64  \n",
            " 1   MSZoning       1460 non-null   int64  \n",
            " 2   LotFrontage    1460 non-null   float64\n",
            " 3   LotArea        1460 non-null   float64\n",
            " 4   Street         1460 non-null   int64  \n",
            " 5   LotShape       1460 non-null   int64  \n",
            " 6   LandContour    1460 non-null   int64  \n",
            " 7   Utilities      1460 non-null   int64  \n",
            " 8   LotConfig      1460 non-null   int64  \n",
            " 9   LandSlope      1460 non-null   int64  \n",
            " 10  Neighborhood   1460 non-null   int64  \n",
            " 11  Condition1     1460 non-null   int64  \n",
            " 12  Condition2     1460 non-null   int64  \n",
            " 13  BldgType       1460 non-null   int64  \n",
            " 14  HouseStyle     1460 non-null   int64  \n",
            " 15  OverallQual    1460 non-null   int64  \n",
            " 16  OverallCond    1460 non-null   int64  \n",
            " 17  YearBuilt      1460 non-null   float64\n",
            " 18  YearRemodAdd   1460 non-null   float64\n",
            " 19  RoofStyle      1460 non-null   int64  \n",
            " 20  RoofMatl       1460 non-null   int64  \n",
            " 21  Exterior1st    1460 non-null   int64  \n",
            " 22  Exterior2nd    1460 non-null   int64  \n",
            " 23  MasVnrType     1460 non-null   int64  \n",
            " 24  MasVnrArea     1460 non-null   float64\n",
            " 25  ExterQual      1460 non-null   int64  \n",
            " 26  ExterCond      1460 non-null   int64  \n",
            " 27  Foundation     1460 non-null   int64  \n",
            " 28  BsmtQual       1460 non-null   int64  \n",
            " 29  BsmtCond       1460 non-null   int64  \n",
            " 30  BsmtExposure   1460 non-null   int64  \n",
            " 31  BsmtFinType1   1460 non-null   int64  \n",
            " 32  BsmtFinSF1     1460 non-null   float64\n",
            " 33  BsmtFinType2   1460 non-null   int64  \n",
            " 34  BsmtFinSF2     1460 non-null   float64\n",
            " 35  BsmtUnfSF      1460 non-null   float64\n",
            " 36  TotalBsmtSF    1460 non-null   float64\n",
            " 37  Heating        1460 non-null   int64  \n",
            " 38  HeatingQC      1460 non-null   int64  \n",
            " 39  CentralAir     1460 non-null   int64  \n",
            " 40  Electrical     1460 non-null   int64  \n",
            " 41  1stFlrSF       1460 non-null   float64\n",
            " 42  2ndFlrSF       1460 non-null   float64\n",
            " 43  LowQualFinSF   1460 non-null   float64\n",
            " 44  GrLivArea      1460 non-null   float64\n",
            " 45  BsmtFullBath   1460 non-null   float64\n",
            " 46  BsmtHalfBath   1460 non-null   float64\n",
            " 47  FullBath       1460 non-null   float64\n",
            " 48  HalfBath       1460 non-null   float64\n",
            " 49  BedroomAbvGr   1460 non-null   float64\n",
            " 50  KitchenAbvGr   1460 non-null   float64\n",
            " 51  KitchenQual    1460 non-null   int64  \n",
            " 52  TotRmsAbvGrd   1460 non-null   float64\n",
            " 53  Functional     1460 non-null   int64  \n",
            " 54  Fireplaces     1460 non-null   float64\n",
            " 55  FireplaceQu    1460 non-null   int64  \n",
            " 56  GarageType     1460 non-null   int64  \n",
            " 57  GarageYrBlt    1460 non-null   float64\n",
            " 58  GarageFinish   1460 non-null   int64  \n",
            " 59  GarageCars     1460 non-null   float64\n",
            " 60  GarageArea     1460 non-null   float64\n",
            " 61  GarageQual     1460 non-null   int64  \n",
            " 62  GarageCond     1460 non-null   int64  \n",
            " 63  PavedDrive     1460 non-null   int64  \n",
            " 64  WoodDeckSF     1460 non-null   float64\n",
            " 65  OpenPorchSF    1460 non-null   float64\n",
            " 66  EnclosedPorch  1460 non-null   float64\n",
            " 67  3SsnPorch      1460 non-null   float64\n",
            " 68  ScreenPorch    1460 non-null   float64\n",
            " 69  PoolArea       1460 non-null   float64\n",
            " 70  MiscVal        1460 non-null   float64\n",
            " 71  MoSold         1460 non-null   float64\n",
            " 72  YrSold         1460 non-null   float64\n",
            " 73  SaleType       1460 non-null   int64  \n",
            " 74  SaleCondition  1460 non-null   int64  \n",
            " 75  SalePrice      1460 non-null   int64  \n",
            "dtypes: float64(33), int64(43)\n",
            "memory usage: 878.3 KB\n"
          ]
        }
      ]
    },
    {
      "cell_type": "code",
      "metadata": {
        "colab": {
          "base_uri": "https://localhost:8080/"
        },
        "id": "9Db7jyqYbvfS",
        "outputId": "71405c11-f0e8-474a-dbe0-40b70ec3a3f8"
      },
      "source": [
        "submission_test_df.shape"
      ],
      "execution_count": 367,
      "outputs": [
        {
          "output_type": "execute_result",
          "data": {
            "text/plain": [
              "(1459, 75)"
            ]
          },
          "metadata": {},
          "execution_count": 367
        }
      ]
    },
    {
      "cell_type": "code",
      "metadata": {
        "colab": {
          "base_uri": "https://localhost:8080/"
        },
        "id": "GgGtK84AYjd3",
        "outputId": "b317d80e-c23e-469e-c44f-047c2bebc549"
      },
      "source": [
        "data_set.shape"
      ],
      "execution_count": 368,
      "outputs": [
        {
          "output_type": "execute_result",
          "data": {
            "text/plain": [
              "(1460, 76)"
            ]
          },
          "metadata": {},
          "execution_count": 368
        }
      ]
    },
    {
      "cell_type": "code",
      "metadata": {
        "id": "Vm1hLXTdYIzN"
      },
      "source": [
        "useless_features = [\"MiscVal\",\"3SsnPorch\",\"YrSold\",\"Utilities\",\"BsmtHalfBath\",\"BsmtFinType2\",\"BsmtFinSF2\",\"MasVnrType\",\"Condition2\",\"LowQualFinSF\"]\n",
        "data_set.drop(labels=useless_features,axis=1,inplace=True)\n",
        "submission_test_df.drop(labels=useless_features,axis=1,inplace=True)"
      ],
      "execution_count": 369,
      "outputs": []
    },
    {
      "cell_type": "code",
      "metadata": {
        "colab": {
          "base_uri": "https://localhost:8080/"
        },
        "id": "M34Aij7Eb1Rs",
        "outputId": "ca3dcae3-e568-4412-edc0-f175b660d14d"
      },
      "source": [
        "submission_test_df.shape\n"
      ],
      "execution_count": 370,
      "outputs": [
        {
          "output_type": "execute_result",
          "data": {
            "text/plain": [
              "(1459, 65)"
            ]
          },
          "metadata": {},
          "execution_count": 370
        }
      ]
    },
    {
      "cell_type": "code",
      "metadata": {
        "colab": {
          "base_uri": "https://localhost:8080/"
        },
        "id": "NTAUyh_-YmHJ",
        "outputId": "8202e489-c9bc-4653-b03d-ee8af8a3b4b0"
      },
      "source": [
        "data_set.shape"
      ],
      "execution_count": 371,
      "outputs": [
        {
          "output_type": "execute_result",
          "data": {
            "text/plain": [
              "(1460, 66)"
            ]
          },
          "metadata": {},
          "execution_count": 371
        }
      ]
    },
    {
      "cell_type": "code",
      "metadata": {
        "id": "4XkBF5wP8gdN"
      },
      "source": [
        "import seaborn as sns\n",
        "from matplotlib import pyplot as plt\n",
        "data_heatmap = data_set.copy()\n",
        "saleprice = data_heatmap[\"SalePrice\"]\n",
        "\n",
        "df1,df2,df3 = np.split(data_heatmap,3,axis=1)\n",
        "df1[\"SalePrice\"]= saleprice\n",
        "df2[\"SalePrice\"]= saleprice\n",
        "\n",
        "\n"
      ],
      "execution_count": 372,
      "outputs": []
    },
    {
      "cell_type": "code",
      "metadata": {
        "id": "jNyVuc3D9YtB"
      },
      "source": [
        "# correlation by visualization\n",
        "#plt.figure(figsize=[35,17])\n",
        "# plot correlation\n",
        "#sns.heatmap(data_heatmap.corr(),annot=True,fmt=\".1f\")\n",
        "#plt.show()"
      ],
      "execution_count": 373,
      "outputs": []
    },
    {
      "cell_type": "code",
      "metadata": {
        "id": "94hqEsmf84Qx"
      },
      "source": [
        "# correlation by visualization\n",
        "#plt.figure(figsize=[17,8])\n",
        "# plot correlation\n",
        "#sns.heatmap(df1.corr(),annot=True,fmt=\".2f\")\n",
        "#plt.show()"
      ],
      "execution_count": 374,
      "outputs": []
    },
    {
      "cell_type": "code",
      "metadata": {
        "id": "9_vjzvOz8xth"
      },
      "source": [
        "## correlation by visualization\n",
        "#plt.figure(figsize=[17,8])\n",
        "# plot correlation\n",
        "#sns.heatmap(df2.corr(),annot=True,fmt=\".2f\")\n",
        "#plt.show()"
      ],
      "execution_count": 375,
      "outputs": []
    },
    {
      "cell_type": "code",
      "metadata": {
        "id": "-8IUgmRa8xkR"
      },
      "source": [
        "# correlation by visualization\n",
        "#plt.figure(figsize=[17,8])\n",
        "# plot correlation\n",
        "#sns.heatmap(df3.corr(),annot=True,fmt=\".2f\")\n",
        "#plt.show()"
      ],
      "execution_count": 376,
      "outputs": []
    },
    {
      "cell_type": "code",
      "metadata": {
        "colab": {
          "base_uri": "https://localhost:8080/"
        },
        "id": "FQO0uopXs-vi",
        "outputId": "cf01b859-68b1-4176-d088-b40d17eeda96"
      },
      "source": [
        "dummy_cols = nominal_cols.copy()\n",
        "dummy_cols.remove(\"Neighborhood\")\n",
        "dummy_cols.remove(\"MasVnrType\")\n",
        "dummy_cols.remove(\"Condition2\")\n",
        "dummy_cols"
      ],
      "execution_count": 377,
      "outputs": [
        {
          "output_type": "execute_result",
          "data": {
            "text/plain": [
              "['MSSubClass',\n",
              " 'MSZoning',\n",
              " 'LandContour',\n",
              " 'LotConfig',\n",
              " 'Condition1',\n",
              " 'BldgType',\n",
              " 'RoofStyle',\n",
              " 'RoofMatl',\n",
              " 'Exterior1st',\n",
              " 'Exterior2nd',\n",
              " 'Foundation',\n",
              " 'Heating',\n",
              " 'GarageType',\n",
              " 'SaleType',\n",
              " 'SaleCondition']"
            ]
          },
          "metadata": {},
          "execution_count": 377
        }
      ]
    },
    {
      "cell_type": "code",
      "metadata": {
        "colab": {
          "base_uri": "https://localhost:8080/"
        },
        "id": "kI-s0_M_eZxr",
        "outputId": "3892434a-61af-4715-d3dc-d1e25b5338cb"
      },
      "source": [
        "data_set.shape"
      ],
      "execution_count": 378,
      "outputs": [
        {
          "output_type": "execute_result",
          "data": {
            "text/plain": [
              "(1460, 66)"
            ]
          },
          "metadata": {},
          "execution_count": 378
        }
      ]
    },
    {
      "cell_type": "code",
      "metadata": {
        "colab": {
          "base_uri": "https://localhost:8080/"
        },
        "id": "UIVdvcq8eZW-",
        "outputId": "d6ac4866-fc36-4f33-c956-356d40192ffe"
      },
      "source": [
        "submission_test_df.shape"
      ],
      "execution_count": 379,
      "outputs": [
        {
          "output_type": "execute_result",
          "data": {
            "text/plain": [
              "(1459, 65)"
            ]
          },
          "metadata": {},
          "execution_count": 379
        }
      ]
    },
    {
      "cell_type": "code",
      "metadata": {
        "colab": {
          "base_uri": "https://localhost:8080/"
        },
        "id": "ivVQVIDFgW_Z",
        "outputId": "0f61db13-219e-4920-a020-c7488a76f622"
      },
      "source": [
        "submission_test_df.nunique()"
      ],
      "execution_count": 380,
      "outputs": [
        {
          "output_type": "execute_result",
          "data": {
            "text/plain": [
              "MSSubClass         16\n",
              "MSZoning            5\n",
              "LotFrontage       116\n",
              "LotArea          1106\n",
              "Street              2\n",
              "LotShape            4\n",
              "LandContour         4\n",
              "LotConfig           5\n",
              "LandSlope           3\n",
              "Neighborhood       25\n",
              "Condition1          9\n",
              "BldgType            5\n",
              "HouseStyle          7\n",
              "OverallQual        10\n",
              "OverallCond         9\n",
              "YearBuilt         106\n",
              "YearRemodAdd       61\n",
              "RoofStyle           6\n",
              "RoofMatl            4\n",
              "Exterior1st        13\n",
              "Exterior2nd        15\n",
              "MasVnrArea        304\n",
              "ExterQual           4\n",
              "ExterCond           5\n",
              "Foundation          6\n",
              "BsmtQual            4\n",
              "BsmtCond            4\n",
              "BsmtExposure        4\n",
              "BsmtFinType1        6\n",
              "BsmtFinSF1        670\n",
              "BsmtUnfSF         794\n",
              "TotalBsmtSF       737\n",
              "Heating             4\n",
              "HeatingQC           5\n",
              "CentralAir          2\n",
              "Electrical          4\n",
              "1stFlrSF          789\n",
              "2ndFlrSF          407\n",
              "GrLivArea         879\n",
              "BsmtFullBath        5\n",
              "FullBath            5\n",
              "HalfBath            3\n",
              "BedroomAbvGr        7\n",
              "KitchenAbvGr        3\n",
              "KitchenQual         4\n",
              "TotRmsAbvGrd       12\n",
              "Functional          7\n",
              "Fireplaces          5\n",
              "FireplaceQu         5\n",
              "GarageType          6\n",
              "GarageYrBlt        98\n",
              "GarageFinish        3\n",
              "GarageCars          7\n",
              "GarageArea        460\n",
              "GarageQual          4\n",
              "GarageCond          5\n",
              "PavedDrive          3\n",
              "WoodDeckSF        263\n",
              "OpenPorchSF       203\n",
              "EnclosedPorch     131\n",
              "ScreenPorch        75\n",
              "PoolArea            7\n",
              "MoSold             12\n",
              "SaleType            9\n",
              "SaleCondition       6\n",
              "dtype: int64"
            ]
          },
          "metadata": {},
          "execution_count": 380
        }
      ]
    },
    {
      "cell_type": "code",
      "metadata": {
        "colab": {
          "base_uri": "https://localhost:8080/"
        },
        "id": "tknBrP7ggW3H",
        "outputId": "d9ac32bd-e2ab-458c-e1e4-adbe282adf6d"
      },
      "source": [
        "data_set.nunique()"
      ],
      "execution_count": 381,
      "outputs": [
        {
          "output_type": "execute_result",
          "data": {
            "text/plain": [
              "MSSubClass         15\n",
              "MSZoning            5\n",
              "LotFrontage       111\n",
              "LotArea          1073\n",
              "Street              2\n",
              "LotShape            4\n",
              "LandContour         4\n",
              "LotConfig           5\n",
              "LandSlope           3\n",
              "Neighborhood       25\n",
              "Condition1          9\n",
              "BldgType            5\n",
              "HouseStyle          8\n",
              "OverallQual        10\n",
              "OverallCond         9\n",
              "YearBuilt         112\n",
              "YearRemodAdd       61\n",
              "RoofStyle           6\n",
              "RoofMatl            8\n",
              "Exterior1st        15\n",
              "Exterior2nd        16\n",
              "MasVnrArea        328\n",
              "ExterQual           4\n",
              "ExterCond           5\n",
              "Foundation          6\n",
              "BsmtQual            4\n",
              "BsmtCond            4\n",
              "BsmtExposure        4\n",
              "BsmtFinType1        6\n",
              "BsmtFinSF1        637\n",
              "BsmtUnfSF         780\n",
              "TotalBsmtSF       721\n",
              "Heating             6\n",
              "HeatingQC           5\n",
              "CentralAir          2\n",
              "Electrical          5\n",
              "1stFlrSF          753\n",
              "2ndFlrSF          417\n",
              "GrLivArea         861\n",
              "BsmtFullBath        4\n",
              "FullBath            4\n",
              "HalfBath            3\n",
              "BedroomAbvGr        8\n",
              "KitchenAbvGr        4\n",
              "KitchenQual         4\n",
              "TotRmsAbvGrd       12\n",
              "Functional          7\n",
              "Fireplaces          4\n",
              "FireplaceQu         5\n",
              "GarageType          6\n",
              "GarageYrBlt        98\n",
              "GarageFinish        3\n",
              "GarageCars          5\n",
              "GarageArea        441\n",
              "GarageQual          5\n",
              "GarageCond          5\n",
              "PavedDrive          3\n",
              "WoodDeckSF        274\n",
              "OpenPorchSF       202\n",
              "EnclosedPorch     120\n",
              "ScreenPorch        76\n",
              "PoolArea            8\n",
              "MoSold             12\n",
              "SaleType            9\n",
              "SaleCondition       6\n",
              "SalePrice         663\n",
              "dtype: int64"
            ]
          },
          "metadata": {},
          "execution_count": 381
        }
      ]
    },
    {
      "cell_type": "code",
      "metadata": {
        "colab": {
          "base_uri": "https://localhost:8080/"
        },
        "id": "MmUhrgivfz5p",
        "outputId": "9ab0ae07-23fb-4d83-a798-2e2fa40d000a"
      },
      "source": [
        "print(submission_test_df.columns.values)"
      ],
      "execution_count": 382,
      "outputs": [
        {
          "output_type": "stream",
          "name": "stdout",
          "text": [
            "['MSSubClass' 'MSZoning' 'LotFrontage' 'LotArea' 'Street' 'LotShape'\n",
            " 'LandContour' 'LotConfig' 'LandSlope' 'Neighborhood' 'Condition1'\n",
            " 'BldgType' 'HouseStyle' 'OverallQual' 'OverallCond' 'YearBuilt'\n",
            " 'YearRemodAdd' 'RoofStyle' 'RoofMatl' 'Exterior1st' 'Exterior2nd'\n",
            " 'MasVnrArea' 'ExterQual' 'ExterCond' 'Foundation' 'BsmtQual' 'BsmtCond'\n",
            " 'BsmtExposure' 'BsmtFinType1' 'BsmtFinSF1' 'BsmtUnfSF' 'TotalBsmtSF'\n",
            " 'Heating' 'HeatingQC' 'CentralAir' 'Electrical' '1stFlrSF' '2ndFlrSF'\n",
            " 'GrLivArea' 'BsmtFullBath' 'FullBath' 'HalfBath' 'BedroomAbvGr'\n",
            " 'KitchenAbvGr' 'KitchenQual' 'TotRmsAbvGrd' 'Functional' 'Fireplaces'\n",
            " 'FireplaceQu' 'GarageType' 'GarageYrBlt' 'GarageFinish' 'GarageCars'\n",
            " 'GarageArea' 'GarageQual' 'GarageCond' 'PavedDrive' 'WoodDeckSF'\n",
            " 'OpenPorchSF' 'EnclosedPorch' 'ScreenPorch' 'PoolArea' 'MoSold'\n",
            " 'SaleType' 'SaleCondition']\n"
          ]
        }
      ]
    },
    {
      "cell_type": "code",
      "metadata": {
        "colab": {
          "base_uri": "https://localhost:8080/"
        },
        "id": "rc04rcLwfzo_",
        "outputId": "d7ceeb1f-511b-44fc-cc50-7081cf1e284c"
      },
      "source": [
        "print(data_set.columns.values)"
      ],
      "execution_count": 383,
      "outputs": [
        {
          "output_type": "stream",
          "name": "stdout",
          "text": [
            "['MSSubClass' 'MSZoning' 'LotFrontage' 'LotArea' 'Street' 'LotShape'\n",
            " 'LandContour' 'LotConfig' 'LandSlope' 'Neighborhood' 'Condition1'\n",
            " 'BldgType' 'HouseStyle' 'OverallQual' 'OverallCond' 'YearBuilt'\n",
            " 'YearRemodAdd' 'RoofStyle' 'RoofMatl' 'Exterior1st' 'Exterior2nd'\n",
            " 'MasVnrArea' 'ExterQual' 'ExterCond' 'Foundation' 'BsmtQual' 'BsmtCond'\n",
            " 'BsmtExposure' 'BsmtFinType1' 'BsmtFinSF1' 'BsmtUnfSF' 'TotalBsmtSF'\n",
            " 'Heating' 'HeatingQC' 'CentralAir' 'Electrical' '1stFlrSF' '2ndFlrSF'\n",
            " 'GrLivArea' 'BsmtFullBath' 'FullBath' 'HalfBath' 'BedroomAbvGr'\n",
            " 'KitchenAbvGr' 'KitchenQual' 'TotRmsAbvGrd' 'Functional' 'Fireplaces'\n",
            " 'FireplaceQu' 'GarageType' 'GarageYrBlt' 'GarageFinish' 'GarageCars'\n",
            " 'GarageArea' 'GarageQual' 'GarageCond' 'PavedDrive' 'WoodDeckSF'\n",
            " 'OpenPorchSF' 'EnclosedPorch' 'ScreenPorch' 'PoolArea' 'MoSold'\n",
            " 'SaleType' 'SaleCondition' 'SalePrice']\n"
          ]
        }
      ]
    },
    {
      "cell_type": "code",
      "metadata": {
        "colab": {
          "base_uri": "https://localhost:8080/"
        },
        "id": "uN-qEsqUe1fk",
        "outputId": "d3897bc3-2b24-4229-938d-8f584e617f38"
      },
      "source": [
        "dummy_cols"
      ],
      "execution_count": 384,
      "outputs": [
        {
          "output_type": "execute_result",
          "data": {
            "text/plain": [
              "['MSSubClass',\n",
              " 'MSZoning',\n",
              " 'LandContour',\n",
              " 'LotConfig',\n",
              " 'Condition1',\n",
              " 'BldgType',\n",
              " 'RoofStyle',\n",
              " 'RoofMatl',\n",
              " 'Exterior1st',\n",
              " 'Exterior2nd',\n",
              " 'Foundation',\n",
              " 'Heating',\n",
              " 'GarageType',\n",
              " 'SaleType',\n",
              " 'SaleCondition']"
            ]
          },
          "metadata": {},
          "execution_count": 384
        }
      ]
    },
    {
      "cell_type": "code",
      "metadata": {
        "id": "b92F0WtluMKF"
      },
      "source": [
        "data_set_y = data_set[\"SalePrice\"]\n",
        "data_set.drop(labels=\"SalePrice\",axis=1,inplace=True)\n",
        "\n",
        "data_and_submission_set = pd.concat([data_set,submission_test_df],axis=0)\n",
        "\n",
        "data_and_submission_set = pd.get_dummies(data_and_submission_set, columns=dummy_cols)\n",
        "\n",
        "data_set = data_and_submission_set.iloc[:submission_test_size+1,:]\n",
        "submission_test_df = data_and_submission_set.iloc[submission_test_size+1:,:]"
      ],
      "execution_count": 385,
      "outputs": []
    },
    {
      "cell_type": "code",
      "metadata": {
        "colab": {
          "base_uri": "https://localhost:8080/"
        },
        "id": "4vScDuRSuqbu",
        "outputId": "f6c32827-fc4f-4445-d972-033b4f05f0b8"
      },
      "source": [
        "data_set.shape"
      ],
      "execution_count": 386,
      "outputs": [
        {
          "output_type": "execute_result",
          "data": {
            "text/plain": [
              "(1460, 172)"
            ]
          },
          "metadata": {},
          "execution_count": 386
        }
      ]
    },
    {
      "cell_type": "code",
      "metadata": {
        "colab": {
          "base_uri": "https://localhost:8080/"
        },
        "id": "Wq5y8PTW_jYY",
        "outputId": "632248c3-a7ad-4b2d-94f6-45f7a987bbad"
      },
      "source": [
        "submission_test_df.shape"
      ],
      "execution_count": 387,
      "outputs": [
        {
          "output_type": "execute_result",
          "data": {
            "text/plain": [
              "(1459, 172)"
            ]
          },
          "metadata": {},
          "execution_count": 387
        }
      ]
    },
    {
      "cell_type": "code",
      "metadata": {
        "id": "1DMC6trCjvAT"
      },
      "source": [
        "y_train=data_set_y.iloc[:X_test_size+1]\n",
        "y_test=data_set_y.iloc[X_test_size+1:]\n",
        "X_train=data_set.iloc[:X_test_size+1,:]\n",
        "X_test=data_set.iloc[X_test_size+1:,:]"
      ],
      "execution_count": 388,
      "outputs": []
    },
    {
      "cell_type": "code",
      "metadata": {
        "id": "_ZaZtk2dvPLg"
      },
      "source": [
        "from sklearn.preprocessing import StandardScaler\n",
        "\n",
        "scaler = StandardScaler()\n",
        "X_train = scaler.fit_transform(X_train)\n",
        "X_test = scaler.transform(X_test)\n",
        "submission_test_df = scaler.transform(submission_test_df)"
      ],
      "execution_count": 389,
      "outputs": []
    },
    {
      "cell_type": "code",
      "metadata": {
        "colab": {
          "base_uri": "https://localhost:8080/"
        },
        "id": "wqbvFLnakQZo",
        "outputId": "7dbcf811-e737-4c44-f55a-4e01aec61c5f"
      },
      "source": [
        "X_train.shape"
      ],
      "execution_count": 390,
      "outputs": [
        {
          "output_type": "execute_result",
          "data": {
            "text/plain": [
              "(1169, 172)"
            ]
          },
          "metadata": {},
          "execution_count": 390
        }
      ]
    },
    {
      "cell_type": "code",
      "metadata": {
        "colab": {
          "base_uri": "https://localhost:8080/"
        },
        "id": "7HeCLgkSkThZ",
        "outputId": "53cc20a3-5128-4360-b2f7-3fb42cd53e3e"
      },
      "source": [
        "X_test.shape"
      ],
      "execution_count": 391,
      "outputs": [
        {
          "output_type": "execute_result",
          "data": {
            "text/plain": [
              "(291, 172)"
            ]
          },
          "metadata": {},
          "execution_count": 391
        }
      ]
    },
    {
      "cell_type": "code",
      "metadata": {
        "id": "VgAp6Nl-ldve",
        "colab": {
          "base_uri": "https://localhost:8080/"
        },
        "outputId": "4e0b55df-3432-4fd6-dff0-de03e44eadf0"
      },
      "source": [
        "y_train.shape"
      ],
      "execution_count": 392,
      "outputs": [
        {
          "output_type": "execute_result",
          "data": {
            "text/plain": [
              "(1169,)"
            ]
          },
          "metadata": {},
          "execution_count": 392
        }
      ]
    },
    {
      "cell_type": "code",
      "metadata": {
        "colab": {
          "base_uri": "https://localhost:8080/"
        },
        "id": "2u7XD-JBmBbQ",
        "outputId": "ab5d948a-91d1-4a49-c33a-251500bf43e3"
      },
      "source": [
        "y_test.shape"
      ],
      "execution_count": 393,
      "outputs": [
        {
          "output_type": "execute_result",
          "data": {
            "text/plain": [
              "(291,)"
            ]
          },
          "metadata": {},
          "execution_count": 393
        }
      ]
    },
    {
      "cell_type": "markdown",
      "metadata": {
        "id": "uYWWCUNYmEZO"
      },
      "source": [
        "# MODELS WİLL BE USED\n"
      ]
    },
    {
      "cell_type": "code",
      "metadata": {
        "id": "67tm6AnLucou"
      },
      "source": [
        "from sklearn.preprocessing import StandardScaler\n",
        "scaler = StandardScaler()\n",
        "X_train = scaler.fit_transform(X_train)\n",
        "X_test = scaler.transform(X_test)"
      ],
      "execution_count": 394,
      "outputs": []
    },
    {
      "cell_type": "markdown",
      "metadata": {
        "id": "SGnINepfnEDh"
      },
      "source": [
        "## Linear regression\n",
        "## Desicion Tree\n",
        "## Svm\n",
        "## XGBoost"
      ]
    },
    {
      "cell_type": "code",
      "metadata": {
        "id": "g9MXoqI6mrQH"
      },
      "source": [
        "from sklearn.model_selection import GridSearchCV\n",
        "from sklearn.linear_model import LinearRegression\n",
        "from sklearn.model_selection import RandomizedSearchCV\n",
        "from sklearn.linear_model import Ridge\n",
        "from sklearn import metrics\n",
        "from sklearn.ensemble import RandomForestRegressor"
      ],
      "execution_count": 395,
      "outputs": []
    },
    {
      "cell_type": "code",
      "metadata": {
        "id": "aDSWmraY3hr8"
      },
      "source": [
        "def print_evaluate(true, predicted):  \n",
        "    mae = metrics.mean_absolute_error(true, predicted)\n",
        "    mse = metrics.mean_squared_error(true, predicted)\n",
        "    rmse = np.sqrt(metrics.mean_squared_error(true, predicted))\n",
        "    r2_square = metrics.r2_score(true, predicted)\n",
        "    print('MAE:', mae)\n",
        "    print('MSE:', mse)\n",
        "    print('RMSE:', rmse)\n",
        "    print('R2 Square', r2_square)\n",
        "    print('__________________________________')"
      ],
      "execution_count": 396,
      "outputs": []
    },
    {
      "cell_type": "code",
      "metadata": {
        "id": "hIWW6bZdmrK4",
        "colab": {
          "base_uri": "https://localhost:8080/"
        },
        "outputId": "817afac6-b79e-4f0c-99e6-035b35a4dc9d"
      },
      "source": [
        "lin_reg = LinearRegression(n_jobs=-1,copy_X=False)\n",
        "parameters_linear_reg = {'fit_intercept':[True,False]}\n",
        "lin_reg.fit(X_train,y_train)"
      ],
      "execution_count": 415,
      "outputs": [
        {
          "output_type": "execute_result",
          "data": {
            "text/plain": [
              "LinearRegression(copy_X=False, fit_intercept=True, n_jobs=-1, normalize=False)"
            ]
          },
          "metadata": {},
          "execution_count": 415
        }
      ]
    },
    {
      "cell_type": "code",
      "metadata": {
        "id": "54SeMvCDmrF5",
        "colab": {
          "base_uri": "https://localhost:8080/"
        },
        "outputId": "b40be8e6-dd5b-4154-8e77-de9603a3a012"
      },
      "source": [
        "y_pred = lin_reg.predict(X_test)\n",
        "y_pred[:5]"
      ],
      "execution_count": 416,
      "outputs": [
        {
          "output_type": "execute_result",
          "data": {
            "text/plain": [
              "array([340061.63563841,  86736.63563841, 152359.13563841, 323041.38563841,\n",
              "        77223.38563841])"
            ]
          },
          "metadata": {},
          "execution_count": 416
        }
      ]
    },
    {
      "cell_type": "code",
      "metadata": {
        "colab": {
          "base_uri": "https://localhost:8080/"
        },
        "id": "Pr_K5i9_-Lj3",
        "outputId": "0190f9fa-2c28-4db4-daf6-7d41c644d4dd"
      },
      "source": [
        "y_test[:5]"
      ],
      "execution_count": 417,
      "outputs": [
        {
          "output_type": "execute_result",
          "data": {
            "text/plain": [
              "Id\n",
              "1106    325000\n",
              "414     115000\n",
              "523     159000\n",
              "1037    315500\n",
              "615      75500\n",
              "Name: SalePrice, dtype: int64"
            ]
          },
          "metadata": {},
          "execution_count": 417
        }
      ]
    },
    {
      "cell_type": "code",
      "metadata": {
        "colab": {
          "base_uri": "https://localhost:8080/"
        },
        "id": "zmtHu3W18c_0",
        "outputId": "87ee3318-3e44-4095-8e74-2bb694fa57a9"
      },
      "source": [
        "y_pred = grid_linear.predict(X_test)\n",
        "y_pred[:5]"
      ],
      "execution_count": 411,
      "outputs": [
        {
          "output_type": "execute_result",
          "data": {
            "text/plain": [
              "array([ 158879.,  -93733.,  -31061.,  141447., -103641.])"
            ]
          },
          "metadata": {},
          "execution_count": 411
        }
      ]
    },
    {
      "cell_type": "code",
      "metadata": {
        "colab": {
          "base_uri": "https://localhost:8080/"
        },
        "id": "uG_i_CGB8sA6",
        "outputId": "9c6081c4-ca36-4b56-c5b4-487a5faad297"
      },
      "source": [
        "y_test[:5]"
      ],
      "execution_count": 412,
      "outputs": [
        {
          "output_type": "execute_result",
          "data": {
            "text/plain": [
              "Id\n",
              "1106    325000\n",
              "414     115000\n",
              "523     159000\n",
              "1037    315500\n",
              "615      75500\n",
              "Name: SalePrice, dtype: int64"
            ]
          },
          "metadata": {},
          "execution_count": 412
        }
      ]
    },
    {
      "cell_type": "code",
      "metadata": {
        "id": "_c1mz6TOmq4t",
        "colab": {
          "base_uri": "https://localhost:8080/"
        },
        "outputId": "3ba8269b-b1cc-4352-df39-c9f7f31d3621"
      },
      "source": [
        "model = Ridge(alpha=100, solver='cholesky', tol=0.0001, random_state=42)\n",
        "model.fit(X_train, y_train)\n",
        "pred = model.predict(X_test)\n",
        "\n",
        "test_pred = model.predict(X_test)\n",
        "train_pred = model.predict(X_train)\n",
        "\n",
        "print('Test set evaluation:\\n_____________________________________')\n",
        "print_evaluate(y_test, test_pred)\n",
        "print('====================================')\n",
        "print('Train set evaluation:\\n_____________________________________')\n",
        "print_evaluate(y_train, train_pred)"
      ],
      "execution_count": 399,
      "outputs": [
        {
          "output_type": "stream",
          "name": "stdout",
          "text": [
            "Test set evaluation:\n",
            "_____________________________________\n",
            "MAE: 20251.691794196362\n",
            "MSE: 1037180231.7693559\n",
            "RMSE: 32205.282668676515\n",
            "R2 Square 0.8652074720979089\n",
            "__________________________________\n",
            "====================================\n",
            "Train set evaluation:\n",
            "_____________________________________\n",
            "MAE: 16026.078538330741\n",
            "MSE: 622351657.5601324\n",
            "RMSE: 24946.976922267204\n",
            "R2 Square 0.8955797809707227\n",
            "__________________________________\n"
          ]
        }
      ]
    },
    {
      "cell_type": "code",
      "metadata": {
        "colab": {
          "base_uri": "https://localhost:8080/"
        },
        "id": "DN6ZpibY2lDu",
        "outputId": "e80f686b-129c-4b73-e110-50c79214235c"
      },
      "source": [
        "rf_reg = RandomForestRegressor(n_estimators=1000,random_state=42)\n",
        "rf_reg.fit(X_train, y_train)\n",
        "\n",
        "test_pred = rf_reg.predict(X_test)\n",
        "train_pred = rf_reg.predict(X_train)\n",
        "\n",
        "print('Test set evaluation:\\n_____________________________________')\n",
        "print_evaluate(y_test, test_pred)\n",
        "\n",
        "print('Train set evaluation:\\n_____________________________________')\n",
        "print_evaluate(y_train, train_pred)"
      ],
      "execution_count": 400,
      "outputs": [
        {
          "output_type": "stream",
          "name": "stdout",
          "text": [
            "Test set evaluation:\n",
            "_____________________________________\n",
            "MAE: 17407.051800687284\n",
            "MSE: 814153230.4885052\n",
            "RMSE: 28533.370471931725\n",
            "R2 Square 0.8941921869741117\n",
            "__________________________________\n",
            "Train set evaluation:\n",
            "_____________________________________\n",
            "MAE: 6425.636178785286\n",
            "MSE: 120981898.83230077\n",
            "RMSE: 10999.177188876483\n",
            "R2 Square 0.9797012569643134\n",
            "__________________________________\n"
          ]
        }
      ]
    },
    {
      "cell_type": "code",
      "metadata": {
        "colab": {
          "base_uri": "https://localhost:8080/"
        },
        "id": "eai7qyEU6TbT",
        "outputId": "6faf8041-5f77-4fe6-f234-7e46ee711d92"
      },
      "source": [
        "y_pred= rf_reg.predict(X_test)\n",
        "y_pred[:5]"
      ],
      "execution_count": 408,
      "outputs": [
        {
          "output_type": "execute_result",
          "data": {
            "text/plain": [
              "array([320967.21 , 115317.432, 162681.524, 321594.447,  84881.433])"
            ]
          },
          "metadata": {},
          "execution_count": 408
        }
      ]
    },
    {
      "cell_type": "code",
      "metadata": {
        "colab": {
          "base_uri": "https://localhost:8080/"
        },
        "id": "b82dim0s6XKr",
        "outputId": "5a8aac4f-18e8-4be9-c459-40a746c698dc"
      },
      "source": [
        "y_test[:5]"
      ],
      "execution_count": 410,
      "outputs": [
        {
          "output_type": "execute_result",
          "data": {
            "text/plain": [
              "Id\n",
              "1106    325000\n",
              "414     115000\n",
              "523     159000\n",
              "1037    315500\n",
              "615      75500\n",
              "Name: SalePrice, dtype: int64"
            ]
          },
          "metadata": {},
          "execution_count": 410
        }
      ]
    },
    {
      "cell_type": "code",
      "metadata": {
        "id": "vzkh18g469kO"
      },
      "source": [
        "rf_reg.score(X_test,y_test)"
      ],
      "execution_count": null,
      "outputs": []
    }
  ]
}